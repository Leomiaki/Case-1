{
 "cells": [
  {
   "cell_type": "markdown",
   "metadata": {},
   "source": [
    "<img src=\"https://s3-sa-east-1.amazonaws.com/preditiva.ai/diversos/preditiva_assinatura.jpg\">\n",
    "\n",
    "# Regressão Linear Múltipla"
   ]
  },
  {
   "cell_type": "markdown",
   "metadata": {
    "tags": []
   },
   "source": [
    "## Case 1: Salários de CEOs"
   ]
  },
  {
   "cell_type": "markdown",
   "metadata": {},
   "source": [
    "Uma consultoria americana foi contratada para estimar o efeito da valor de mercado sobre o salário do CEO de empresas americanas. O cliente sugeriu o seguinte modelo:"
   ]
  },
  {
   "cell_type": "markdown",
   "metadata": {},
   "source": [
    " salario = ${\\beta}_{0}+{\\beta}_{1}*anos empresa + {\\beta}_{2}*anos como ceo + {\\beta}_{3}*vendas totais + {\\beta}_{4}*valuation + {\\beta}_{5}*margem  $"
   ]
  },
  {
   "cell_type": "markdown",
   "metadata": {},
   "source": [
    "em que:\n",
    "\n",
    "`anos empresa` são os anos totais de trabalho na empresa;<br>\n",
    "`anos como ceo` são os anos de trabalhando como CEO na empresa;<br>\n",
    "`vendas totais` são as vendas totais da empresa, em milhões de dólares;<br>\n",
    "`valuation` é o valor de mercado da empresa, em milhões de dólares; ⁡<br>\n",
    "`margem` é o lucro como porcentagem das vendas;"
   ]
  },
  {
   "cell_type": "markdown",
   "metadata": {},
   "source": [
    "Com posse da base fornecida pelo cliente `salario_ceo.csv`, responda:\n",
    "\n",
    "**É possível estimar o salário de CEOs a partir das variáveis fornecidas?**"
   ]
  },
  {
   "cell_type": "markdown",
   "metadata": {},
   "source": [
    "### Importação das bibliotecas"
   ]
  },
  {
   "cell_type": "code",
   "execution_count": 1,
   "metadata": {},
   "outputs": [],
   "source": [
    "# Pacotes de manipulação de dados\n",
    "import numpy as np\n",
    "import pandas as pd\n",
    "\n",
    "# Pacotes gráficos\n",
    "import matplotlib.pyplot as plt\n",
    "import seaborn as sns\n",
    "\n",
    "# Pacotes de data science\n",
    "import statsmodels.api as sm"
   ]
  },
  {
   "cell_type": "markdown",
   "metadata": {},
   "source": [
    "### Importação da base de dados"
   ]
  },
  {
   "cell_type": "code",
   "execution_count": 2,
   "metadata": {},
   "outputs": [],
   "source": [
    "df_salarioCEO_original = pd.read_csv('salario_ceo.csv' , delimiter=';')"
   ]
  },
  {
   "cell_type": "markdown",
   "metadata": {},
   "source": [
    "### Análise Exploratória de Dados"
   ]
  },
  {
   "cell_type": "code",
   "execution_count": 3,
   "metadata": {},
   "outputs": [
    {
     "data": {
      "text/html": [
       "<div>\n",
       "<style scoped>\n",
       "    .dataframe tbody tr th:only-of-type {\n",
       "        vertical-align: middle;\n",
       "    }\n",
       "\n",
       "    .dataframe tbody tr th {\n",
       "        vertical-align: top;\n",
       "    }\n",
       "\n",
       "    .dataframe thead th {\n",
       "        text-align: right;\n",
       "    }\n",
       "</style>\n",
       "<table border=\"1\" class=\"dataframe\">\n",
       "  <thead>\n",
       "    <tr style=\"text-align: right;\">\n",
       "      <th></th>\n",
       "      <th>anos_empresa</th>\n",
       "      <th>anos_como_ceo</th>\n",
       "      <th>salario</th>\n",
       "      <th>vendas_totais</th>\n",
       "      <th>valuation</th>\n",
       "      <th>margem</th>\n",
       "    </tr>\n",
       "  </thead>\n",
       "  <tbody>\n",
       "    <tr>\n",
       "      <th>0</th>\n",
       "      <td>9</td>\n",
       "      <td>2</td>\n",
       "      <td>1161</td>\n",
       "      <td>6200</td>\n",
       "      <td>23200</td>\n",
       "      <td>15.6</td>\n",
       "    </tr>\n",
       "    <tr>\n",
       "      <th>1</th>\n",
       "      <td>10</td>\n",
       "      <td>10</td>\n",
       "      <td>600</td>\n",
       "      <td>283</td>\n",
       "      <td>1100</td>\n",
       "      <td>17.0</td>\n",
       "    </tr>\n",
       "    <tr>\n",
       "      <th>2</th>\n",
       "      <td>9</td>\n",
       "      <td>3</td>\n",
       "      <td>378</td>\n",
       "      <td>169</td>\n",
       "      <td>1100</td>\n",
       "      <td>23.7</td>\n",
       "    </tr>\n",
       "    <tr>\n",
       "      <th>3</th>\n",
       "      <td>22</td>\n",
       "      <td>22</td>\n",
       "      <td>650</td>\n",
       "      <td>1100</td>\n",
       "      <td>999</td>\n",
       "      <td>-4.9</td>\n",
       "    </tr>\n",
       "    <tr>\n",
       "      <th>4</th>\n",
       "      <td>8</td>\n",
       "      <td>6</td>\n",
       "      <td>496</td>\n",
       "      <td>350</td>\n",
       "      <td>387</td>\n",
       "      <td>8.0</td>\n",
       "    </tr>\n",
       "    <tr>\n",
       "      <th>5</th>\n",
       "      <td>7</td>\n",
       "      <td>7</td>\n",
       "      <td>1066</td>\n",
       "      <td>18999</td>\n",
       "      <td>3900</td>\n",
       "      <td>3.2</td>\n",
       "    </tr>\n",
       "    <tr>\n",
       "      <th>6</th>\n",
       "      <td>35</td>\n",
       "      <td>10</td>\n",
       "      <td>945</td>\n",
       "      <td>535</td>\n",
       "      <td>622</td>\n",
       "      <td>4.5</td>\n",
       "    </tr>\n",
       "    <tr>\n",
       "      <th>7</th>\n",
       "      <td>32</td>\n",
       "      <td>8</td>\n",
       "      <td>1260</td>\n",
       "      <td>4799</td>\n",
       "      <td>2100</td>\n",
       "      <td>4.0</td>\n",
       "    </tr>\n",
       "    <tr>\n",
       "      <th>8</th>\n",
       "      <td>4</td>\n",
       "      <td>4</td>\n",
       "      <td>502</td>\n",
       "      <td>610</td>\n",
       "      <td>453</td>\n",
       "      <td>1.1</td>\n",
       "    </tr>\n",
       "    <tr>\n",
       "      <th>9</th>\n",
       "      <td>39</td>\n",
       "      <td>5</td>\n",
       "      <td>1094</td>\n",
       "      <td>2899</td>\n",
       "      <td>3900</td>\n",
       "      <td>7.9</td>\n",
       "    </tr>\n",
       "    <tr>\n",
       "      <th>10</th>\n",
       "      <td>26</td>\n",
       "      <td>7</td>\n",
       "      <td>601</td>\n",
       "      <td>1200</td>\n",
       "      <td>533</td>\n",
       "      <td>2.8</td>\n",
       "    </tr>\n",
       "    <tr>\n",
       "      <th>11</th>\n",
       "      <td>39</td>\n",
       "      <td>8</td>\n",
       "      <td>355</td>\n",
       "      <td>560</td>\n",
       "      <td>477</td>\n",
       "      <td>1.4</td>\n",
       "    </tr>\n",
       "    <tr>\n",
       "      <th>12</th>\n",
       "      <td>37</td>\n",
       "      <td>37</td>\n",
       "      <td>1200</td>\n",
       "      <td>795</td>\n",
       "      <td>677</td>\n",
       "      <td>4.4</td>\n",
       "    </tr>\n",
       "    <tr>\n",
       "      <th>13</th>\n",
       "      <td>25</td>\n",
       "      <td>1</td>\n",
       "      <td>696</td>\n",
       "      <td>8199</td>\n",
       "      <td>5699</td>\n",
       "      <td>2.9</td>\n",
       "    </tr>\n",
       "    <tr>\n",
       "      <th>14</th>\n",
       "      <td>21</td>\n",
       "      <td>11</td>\n",
       "      <td>1040</td>\n",
       "      <td>4299</td>\n",
       "      <td>1399</td>\n",
       "      <td>2.1</td>\n",
       "    </tr>\n",
       "    <tr>\n",
       "      <th>15</th>\n",
       "      <td>7</td>\n",
       "      <td>7</td>\n",
       "      <td>244</td>\n",
       "      <td>135</td>\n",
       "      <td>558</td>\n",
       "      <td>17.8</td>\n",
       "    </tr>\n",
       "    <tr>\n",
       "      <th>16</th>\n",
       "      <td>38</td>\n",
       "      <td>4</td>\n",
       "      <td>816</td>\n",
       "      <td>1300</td>\n",
       "      <td>847</td>\n",
       "      <td>4.2</td>\n",
       "    </tr>\n",
       "    <tr>\n",
       "      <th>17</th>\n",
       "      <td>31</td>\n",
       "      <td>12</td>\n",
       "      <td>1674</td>\n",
       "      <td>673</td>\n",
       "      <td>1200</td>\n",
       "      <td>17.1</td>\n",
       "    </tr>\n",
       "    <tr>\n",
       "      <th>18</th>\n",
       "      <td>33</td>\n",
       "      <td>24</td>\n",
       "      <td>970</td>\n",
       "      <td>1399</td>\n",
       "      <td>609</td>\n",
       "      <td>4.9</td>\n",
       "    </tr>\n",
       "    <tr>\n",
       "      <th>19</th>\n",
       "      <td>36</td>\n",
       "      <td>1</td>\n",
       "      <td>609</td>\n",
       "      <td>1100</td>\n",
       "      <td>880</td>\n",
       "      <td>6.3</td>\n",
       "    </tr>\n",
       "  </tbody>\n",
       "</table>\n",
       "</div>"
      ],
      "text/plain": [
       "    anos_empresa  anos_como_ceo  salario  vendas_totais  valuation  margem\n",
       "0              9              2     1161           6200      23200    15.6\n",
       "1             10             10      600            283       1100    17.0\n",
       "2              9              3      378            169       1100    23.7\n",
       "3             22             22      650           1100        999    -4.9\n",
       "4              8              6      496            350        387     8.0\n",
       "5              7              7     1066          18999       3900     3.2\n",
       "6             35             10      945            535        622     4.5\n",
       "7             32              8     1260           4799       2100     4.0\n",
       "8              4              4      502            610        453     1.1\n",
       "9             39              5     1094           2899       3900     7.9\n",
       "10            26              7      601           1200        533     2.8\n",
       "11            39              8      355            560        477     1.4\n",
       "12            37             37     1200            795        677     4.4\n",
       "13            25              1      696           8199       5699     2.9\n",
       "14            21             11     1040           4299       1399     2.1\n",
       "15             7              7      244            135        558    17.8\n",
       "16            38              4      816           1300        847     4.2\n",
       "17            31             12     1674            673       1200    17.1\n",
       "18            33             24      970           1399        609     4.9\n",
       "19            36              1      609           1100        880     6.3"
      ]
     },
     "execution_count": 3,
     "metadata": {},
     "output_type": "execute_result"
    }
   ],
   "source": [
    "df_salarioCEO_original.head(20)"
   ]
  },
  {
   "cell_type": "code",
   "execution_count": 4,
   "metadata": {},
   "outputs": [
    {
     "data": {
      "text/html": [
       "<div>\n",
       "<style scoped>\n",
       "    .dataframe tbody tr th:only-of-type {\n",
       "        vertical-align: middle;\n",
       "    }\n",
       "\n",
       "    .dataframe tbody tr th {\n",
       "        vertical-align: top;\n",
       "    }\n",
       "\n",
       "    .dataframe thead th {\n",
       "        text-align: right;\n",
       "    }\n",
       "</style>\n",
       "<table border=\"1\" class=\"dataframe\">\n",
       "  <thead>\n",
       "    <tr style=\"text-align: right;\">\n",
       "      <th></th>\n",
       "      <th>anos_empresa</th>\n",
       "      <th>anos_como_ceo</th>\n",
       "      <th>salario</th>\n",
       "      <th>vendas_totais</th>\n",
       "      <th>valuation</th>\n",
       "      <th>margem</th>\n",
       "    </tr>\n",
       "  </thead>\n",
       "  <tbody>\n",
       "    <tr>\n",
       "      <th>count</th>\n",
       "      <td>177.000000</td>\n",
       "      <td>177.000000</td>\n",
       "      <td>177.000000</td>\n",
       "      <td>177.000000</td>\n",
       "      <td>177.000000</td>\n",
       "      <td>177.000000</td>\n",
       "    </tr>\n",
       "    <tr>\n",
       "      <th>mean</th>\n",
       "      <td>22.502825</td>\n",
       "      <td>7.954802</td>\n",
       "      <td>865.344633</td>\n",
       "      <td>3528.983051</td>\n",
       "      <td>3599.875706</td>\n",
       "      <td>6.423729</td>\n",
       "    </tr>\n",
       "    <tr>\n",
       "      <th>std</th>\n",
       "      <td>12.294735</td>\n",
       "      <td>7.150826</td>\n",
       "      <td>587.637837</td>\n",
       "      <td>6088.636588</td>\n",
       "      <td>6442.307591</td>\n",
       "      <td>17.864245</td>\n",
       "    </tr>\n",
       "    <tr>\n",
       "      <th>min</th>\n",
       "      <td>2.000000</td>\n",
       "      <td>0.000000</td>\n",
       "      <td>99.000000</td>\n",
       "      <td>29.000000</td>\n",
       "      <td>387.000000</td>\n",
       "      <td>-203.100000</td>\n",
       "    </tr>\n",
       "    <tr>\n",
       "      <th>25%</th>\n",
       "      <td>12.000000</td>\n",
       "      <td>3.000000</td>\n",
       "      <td>470.000000</td>\n",
       "      <td>561.000000</td>\n",
       "      <td>644.000000</td>\n",
       "      <td>4.200000</td>\n",
       "    </tr>\n",
       "    <tr>\n",
       "      <th>50%</th>\n",
       "      <td>23.000000</td>\n",
       "      <td>6.000000</td>\n",
       "      <td>707.000000</td>\n",
       "      <td>1399.000000</td>\n",
       "      <td>1200.000000</td>\n",
       "      <td>6.800000</td>\n",
       "    </tr>\n",
       "    <tr>\n",
       "      <th>75%</th>\n",
       "      <td>33.000000</td>\n",
       "      <td>11.000000</td>\n",
       "      <td>1119.000000</td>\n",
       "      <td>3500.000000</td>\n",
       "      <td>3500.000000</td>\n",
       "      <td>10.900000</td>\n",
       "    </tr>\n",
       "    <tr>\n",
       "      <th>max</th>\n",
       "      <td>58.000000</td>\n",
       "      <td>37.000000</td>\n",
       "      <td>5299.000000</td>\n",
       "      <td>51300.000000</td>\n",
       "      <td>45400.000000</td>\n",
       "      <td>47.500000</td>\n",
       "    </tr>\n",
       "  </tbody>\n",
       "</table>\n",
       "</div>"
      ],
      "text/plain": [
       "       anos_empresa  anos_como_ceo      salario  vendas_totais     valuation  \\\n",
       "count    177.000000     177.000000   177.000000     177.000000    177.000000   \n",
       "mean      22.502825       7.954802   865.344633    3528.983051   3599.875706   \n",
       "std       12.294735       7.150826   587.637837    6088.636588   6442.307591   \n",
       "min        2.000000       0.000000    99.000000      29.000000    387.000000   \n",
       "25%       12.000000       3.000000   470.000000     561.000000    644.000000   \n",
       "50%       23.000000       6.000000   707.000000    1399.000000   1200.000000   \n",
       "75%       33.000000      11.000000  1119.000000    3500.000000   3500.000000   \n",
       "max       58.000000      37.000000  5299.000000   51300.000000  45400.000000   \n",
       "\n",
       "           margem  \n",
       "count  177.000000  \n",
       "mean     6.423729  \n",
       "std     17.864245  \n",
       "min   -203.100000  \n",
       "25%      4.200000  \n",
       "50%      6.800000  \n",
       "75%     10.900000  \n",
       "max     47.500000  "
      ]
     },
     "execution_count": 4,
     "metadata": {},
     "output_type": "execute_result"
    }
   ],
   "source": [
    "df_salarioCEO_original.describe()"
   ]
  },
  {
   "cell_type": "markdown",
   "metadata": {},
   "source": [
    "**<span style=\"color:red\">Comentários Itano</span>**<br>\n",
    "* É interessante registrar o que você extraiu de insights das tabelas, pois apesar de ser super importante fazermos as tabelas corretamente, o maior valor está em analisá-las.\n",
    "</span>"
   ]
  },
  {
   "cell_type": "markdown",
   "metadata": {},
   "source": [
    "### Comente sobre os sinais esperados dos coeficientes, justificando suas respostas. "
   ]
  },
  {
   "cell_type": "markdown",
   "metadata": {},
   "source": [
    "`Dica :` Faça uma análise de dispersão gráfica e usando matriz de correlação."
   ]
  },
  {
   "cell_type": "code",
   "execution_count": 5,
   "metadata": {},
   "outputs": [
    {
     "data": {
      "image/png": "[encoded data removed]",
      "text/plain": [
       "<Figure size 1080x360 with 5 Axes>"
      ]
     },
     "metadata": {
      "needs_background": "light"
     },
     "output_type": "display_data"
    }
   ],
   "source": [
    "# Análise de Dispersão Gráfica\n",
    "fig, ((ax1, ax2, ax3, ax4, ax5)) = plt.subplots(1, 5, sharey=True, figsize=(15,5))\n",
    "ax1.scatter(df_salarioCEO_original['anos_empresa'], df_salarioCEO_original['salario']);\n",
    "ax2.scatter(df_salarioCEO_original['anos_como_ceo'], df_salarioCEO_original['salario']);\n",
    "ax3.scatter(df_salarioCEO_original['vendas_totais'], df_salarioCEO_original['salario']);\n",
    "ax4.scatter(df_salarioCEO_original['valuation'], df_salarioCEO_original['salario']);\n",
    "ax5.scatter(df_salarioCEO_original['margem'], df_salarioCEO_original['salario']);"
   ]
  },
  {
   "cell_type": "code",
   "execution_count": 6,
   "metadata": {},
   "outputs": [
    {
     "data": {
      "image/png": "[encoded data removed]",
      "text/plain": [
       "<Figure size 432x288 with 1 Axes>"
      ]
     },
     "metadata": {
      "needs_background": "light"
     },
     "output_type": "display_data"
    }
   ],
   "source": [
    "# Análise do boxplot salario\n",
    "plt.boxplot(df_salarioCEO_original['salario'], showmeans=True, labels=['salario']);"
   ]
  },
  {
   "cell_type": "code",
   "execution_count": 7,
   "metadata": {},
   "outputs": [
    {
     "data": {
      "image/png": "[encoded data removed]",
      "text/plain": [
       "<Figure size 432x288 with 1 Axes>"
      ]
     },
     "metadata": {
      "needs_background": "light"
     },
     "output_type": "display_data"
    }
   ],
   "source": [
    "# Análise do boxplot anos_empresa\n",
    "plt.boxplot(df_salarioCEO_original['anos_empresa'], showmeans=True, labels=['anos de empresa']);"
   ]
  },
  {
   "cell_type": "code",
   "execution_count": 8,
   "metadata": {},
   "outputs": [
    {
     "data": {
      "image/png": "[encoded data removed]",
      "text/plain": [
       "<Figure size 432x288 with 1 Axes>"
      ]
     },
     "metadata": {
      "needs_background": "light"
     },
     "output_type": "display_data"
    }
   ],
   "source": [
    "# Análise do boxplot anos_como_ceo\n",
    "plt.boxplot(df_salarioCEO_original['anos_como_ceo'], showmeans=True, labels=['anos como CEO']);"
   ]
  },
  {
   "cell_type": "code",
   "execution_count": 9,
   "metadata": {},
   "outputs": [
    {
     "data": {
      "image/png": "[encoded data removed]",
      "text/plain": [
       "<Figure size 432x288 with 1 Axes>"
      ]
     },
     "metadata": {
      "needs_background": "light"
     },
     "output_type": "display_data"
    }
   ],
   "source": [
    "# Análise do boxplot vendas_totais\n",
    "plt.boxplot(df_salarioCEO_original['vendas_totais'], showmeans=True, labels=['vendas totais']);"
   ]
  },
  {
   "cell_type": "code",
   "execution_count": 10,
   "metadata": {},
   "outputs": [
    {
     "data": {
      "image/png": "[encoded data removed]",
      "text/plain": [
       "<Figure size 432x288 with 1 Axes>"
      ]
     },
     "metadata": {
      "needs_background": "light"
     },
     "output_type": "display_data"
    }
   ],
   "source": [
    "# Análise do boxplot valuation\n",
    "plt.boxplot(df_salarioCEO_original['valuation'], showmeans=True, labels=['valuation']);"
   ]
  },
  {
   "cell_type": "code",
   "execution_count": 11,
   "metadata": {},
   "outputs": [
    {
     "data": {
      "image/png": "[encoded data removed]",
      "text/plain": [
       "<Figure size 432x288 with 1 Axes>"
      ]
     },
     "metadata": {
      "needs_background": "light"
     },
     "output_type": "display_data"
    }
   ],
   "source": [
    "# Análise do boxplot margem\n",
    "plt.boxplot(df_salarioCEO_original['margem'], showmeans=True, labels=['margem']);"
   ]
  },
  {
   "cell_type": "markdown",
   "metadata": {},
   "source": [
    "**<span style=\"color:red\">Comentários Itano</span>**<br>\n",
    "* Excelente ter incluído os boxplots Leo!! O que você encontrou analisando-os? Existem outliers? Eles podem impactar de forma significativa o modelo?\n",
    "</span>"
   ]
  },
  {
   "cell_type": "code",
   "execution_count": 12,
   "metadata": {},
   "outputs": [
    {
     "data": {
      "image/png": "[encoded data removed]",
      "text/plain": [
       "<Figure size 720x576 with 2 Axes>"
      ]
     },
     "metadata": {
      "needs_background": "light"
     },
     "output_type": "display_data"
    }
   ],
   "source": [
    "# Matriz de Correlação\n",
    "fig = plt.figure(figsize=(10,8))\n",
    "sns.heatmap(df_salarioCEO_original.corr(), cmap='RdBu_r', annot=True);"
   ]
  },
  {
   "cell_type": "markdown",
   "metadata": {},
   "source": [
    "Comentários sobre os Sinais Esperados do Coeficientes<br>\n",
    "Analisando os __gráficos de dispersão__ e a __matriz de correlação__, identificamos que:\n",
    "\n",
    "1. __Anos de Empresa__ : coeficiente positivo mas próximo de zero\n",
    "2. __Anos como CEO__ : coeficiente positivo, com aparente correlação muito fraca\n",
    "3. __Vendas Totais__ : coeficiente positivo, com aparente correlação fraca\n",
    "4. __Valuation__ : coeficiente positivo, com aparente correlação média\n",
    "5. __Margem__ : coeficiente negativo, mas próximo de zero. Aparentemente o valor da correlação não parece condizer com a lógica do negócio, espera-se que quanto mais resultado um CEO alcança, maior seria seu salário."
   ]
  },
  {
   "cell_type": "markdown",
   "metadata": {},
   "source": [
    "**<span style=\"color:red\">Comentários Itano</span>**<br>\n",
    "* Boas análises!\n",
    "* Como sugestão, você pode começar a comentar pelas variáveis mais importantes, pois são elas que trarão maior valor na construção do modelo.\n",
    "</span>"
   ]
  },
  {
   "cell_type": "markdown",
   "metadata": {},
   "source": [
    "### Ajuste um modelo de Regressão Linear Múltipla com as variáveis sugeridas pela consultoria"
   ]
  },
  {
   "cell_type": "code",
   "execution_count": 13,
   "metadata": {},
   "outputs": [
    {
     "name": "stdout",
     "output_type": "stream",
     "text": [
      "                            OLS Regression Results                            \n",
      "==============================================================================\n",
      "Dep. Variable:                salario   R-squared:                       0.209\n",
      "Model:                            OLS   Adj. R-squared:                  0.186\n",
      "Method:                 Least Squares   F-statistic:                     9.017\n",
      "Date:                Fri, 09 Apr 2021   Prob (F-statistic):           1.26e-07\n",
      "Time:                        19:54:02   Log-Likelihood:                -1358.5\n",
      "No. Observations:                 177   AIC:                             2729.\n",
      "Df Residuals:                     171   BIC:                             2748.\n",
      "Df Model:                           5                                         \n",
      "Covariance Type:            nonrobust                                         \n",
      "=================================================================================\n",
      "                    coef    std err          t      P>|t|      [0.025      0.975]\n",
      "---------------------------------------------------------------------------------\n",
      "intercepto      682.2568     88.841      7.680      0.000     506.891     857.623\n",
      "anos_empresa     -3.5392      3.465     -1.021      0.308     -10.379       3.300\n",
      "anos_como_ceo    14.7986      5.938      2.492      0.014       3.077      26.520\n",
      "vendas_totais     0.0187      0.010      1.847      0.066      -0.001       0.039\n",
      "valuation         0.0248      0.010      2.592      0.010       0.006       0.044\n",
      "margem           -1.6157      2.257     -0.716      0.475      -6.072       2.840\n",
      "==============================================================================\n",
      "Omnibus:                      192.792   Durbin-Watson:                   2.134\n",
      "Prob(Omnibus):                  0.000   Jarque-Bera (JB):             7308.327\n",
      "Skew:                           4.059   Prob(JB):                         0.00\n",
      "Kurtosis:                      33.415   Cond. No.                     2.16e+04\n",
      "==============================================================================\n",
      "\n",
      "Warnings:\n",
      "[1] Standard Errors assume that the covariance matrix of the errors is correctly specified.\n",
      "[2] The condition number is large, 2.16e+04. This might indicate that there are\n",
      "strong multicollinearity or other numerical problems.\n"
     ]
    }
   ],
   "source": [
    "# Variável resposta\n",
    "y_consultoria = df_salarioCEO_original['salario']\n",
    "\n",
    "# Variáveis explicativas\n",
    "df_salarioCEO_original['intercepto'] = 1\n",
    "x_consultoria = df_salarioCEO_original[ ['intercepto', 'anos_empresa', 'anos_como_ceo', 'vendas_totais', 'valuation', 'margem'] ]\n",
    "\n",
    "# Ajusta o modelo e retorna os resultados\n",
    "modelo_consultoria = sm.OLS(y_consultoria, x_consultoria)\n",
    "resultado_consultoria = modelo_consultoria.fit()\n",
    "print(resultado_consultoria.summary())"
   ]
  },
  {
   "cell_type": "markdown",
   "metadata": {},
   "source": [
    "### O sinal dos coeficientes estimados associados às variáveis `anos empresa` e `margem` estão de acordo com o esperado? Justifique."
   ]
  },
  {
   "cell_type": "markdown",
   "metadata": {},
   "source": [
    "A equação de regressão linear encontrada considerando os dados disponibilizados, e seguindo o modelo inicial proposta pela consultoria é:  \n",
    "Y(salario) = 682,26 - 3,54*anos_empresa + 14,80*anos_como_ceo + 0,02*vendas_totais + 0,02*valuation - 1,62*margem\n",
    "\n",
    "Análise das variáveis:\n",
    "1. __Intercepto__ = 682,26 é o salário médio de um CEO novo na empresa, sem nenhum ano como ceo e que tenha vendas totais, valuation e margem considerandos como zero  \n",
    "2. __anos de empresa__ = -3,54 é a redução média no salário do CEO para cada ano adicional de empresa, com as outras variáveis constantes. O sinal do coeficiente da variável \"anos_empresa\" não está conforme esperado (esperava-se que anos de empresa aumentassem o salário)\n",
    "3. __anos como CEO__ = 14,80 é o aumento médio no salário do CEO para cada ano adicional como CEO, com as outras variáveis constantes. O sinal do coeficiente da variável \"anos_como_CEO\" está conforme esperado\n",
    "4. __vendas totais__ = 0,02 é o aumento médio no salário do CEO para cada unidade de venda adicional, com as outras variáveis constantes. O sinal do coeficiente da variável \"vendas_totais\" está conforme esperado, no entanto o valor de acrésimo é muito pequeno\n",
    "5. __valuation__ = 0,02 é o aumento médio no salário do CEO para cada unidade de valuation adicional, com as outras variáveis constantes. O sinal do coeficiente da variável \"valuation\" está conforme esperado, no entanto o valor de acrésimo é muito pequeno\n",
    "6. __margem__ = -1,62 é a redução média no salário do CEO para cada unidade de margem adicional, com as outras variáveis constantes. O sinal do coeficiente da variável \"margem\", apesar de estar conforme a correlação calculada, não parece estar de acordo com o que a lógica nos diz (esperava-se que maiores margens indicassem um salário maior)"
   ]
  },
  {
   "cell_type": "markdown",
   "metadata": {},
   "source": [
    "**<span style=\"color:red\">Comentários Itano</span>**<br>\n",
    "* Muito bom ter colocado as interpretações Leo! Sugiro substituir o trecho \"para cada unidade de venda adicional\" por \"para cada 1 milhão adicional em vendas\", pois fica mais fácil de transmitir a informação com as áreas de negócios. O mesmo se aplica as demais variáveis.\n",
    "</span>"
   ]
  },
  {
   "cell_type": "markdown",
   "metadata": {},
   "source": [
    "### Avalie a qualidade do modelo de regressão linear múltipla proposto. Ele é estatísticamente significante?"
   ]
  },
  {
   "cell_type": "markdown",
   "metadata": {},
   "source": [
    "`Dica :` Verifique o R Quadrado ajustado do modelo e também o p-valor dos coeficientes.\n",
    "O modelo apresenta um R2 ajustado de 0,186. Isso indica que o poder de explicação do modelo com as variáveis propostas pela consultoria é fraco (cerca de 19%).  \n",
    "\n",
    "Sobre os p valores encontrados temos as análises abaixo:  \n",
    "__OBS.__: lembrando que a hipótese nula (H0) do teste é se o coeficiente é igual a zero na população, assim se a hipótese for plausível a variável explicativa não tem contribuição no modelo. Vamos considerar como sendo um H0 plausível p valores maiores que 0,05\n",
    "1. __anos de empresa__ = p valor igual a 0,308, hipótese nula plausível (estatisticamente a variável não contribui para o modelo)\n",
    "2. __anos como CEO__ = p valor igual a 0,014, hipótese nula não plausível (estatisticamente a variável contribui para o modelo)\n",
    "3. __vendas totais__ = p valor igual a 0,066, hipótese nula plausível (estatisticamente a variável não contribui para o modelo)\n",
    "4. __valuation__ = p valor igual a 0,010, hipótese nula não plausível (estatisticamente a variável contribui para o modelo)\n",
    "5. __margem__ = p valor igual a 0,475, hipótese nula plausível (estatisticamente a variável não contribui para o modelo)\n",
    "\n",
    "Ou seja, pela análise dos P valores de cada variável, chegamos à conclusão de que as variáveis \"anos_empresa\", \"vendas_totais\", \"margem\" estatisticamente não contribuem para o modelo.  \n",
    "A seguir vamos estudar a retirada das mesmas do modelo e avaliar o impacto no R2 ajustado."
   ]
  },
  {
   "cell_type": "markdown",
   "metadata": {},
   "source": [
    "**<span style=\"color:red\">Comentários Itano</span>**<br>\n",
    "* Ótima análise!\n",
    "* Na conclusão, lembre-se de que caso tenhamos mais de uma variável não significativa, essa análise precisa ser feita uma a uma. Ou seja, pode ser que excluindo a variável **margem**, que possui o maior p-valor, a variável **anos de empresa** passe a ser significativa.\n",
    "</span>"
   ]
  },
  {
   "cell_type": "markdown",
   "metadata": {},
   "source": []
  },
  {
   "cell_type": "markdown",
   "metadata": {},
   "source": [
    "### Realize os ajustes necessários no modelo, removendo variáveis que não sejam estatisticamente significantes até que o modelo resultante esteja adequado."
   ]
  },
  {
   "cell_type": "markdown",
   "metadata": {},
   "source": [
    "`Dica :` Quando for excluir variáveis explicativas, remova-as uma de cada vez para garantir que está realizando a análise correta para a remoção."
   ]
  },
  {
   "cell_type": "markdown",
   "metadata": {},
   "source": [
    "#### AJUSTE 1: Removendo a variável \"anos_empresa\" do modelo"
   ]
  },
  {
   "cell_type": "code",
   "execution_count": 14,
   "metadata": {},
   "outputs": [
    {
     "name": "stdout",
     "output_type": "stream",
     "text": [
      "                            OLS Regression Results                            \n",
      "==============================================================================\n",
      "Dep. Variable:                salario   R-squared:                       0.204\n",
      "Model:                            OLS   Adj. R-squared:                  0.185\n",
      "Method:                 Least Squares   F-statistic:                     11.01\n",
      "Date:                Fri, 09 Apr 2021   Prob (F-statistic):           5.69e-08\n",
      "Time:                        19:54:14   Log-Likelihood:                -1359.1\n",
      "No. Observations:                 177   AIC:                             2728.\n",
      "Df Residuals:                     172   BIC:                             2744.\n",
      "Df Model:                           4                                         \n",
      "Covariance Type:            nonrobust                                         \n",
      "=================================================================================\n",
      "                    coef    std err          t      P>|t|      [0.025      0.975]\n",
      "---------------------------------------------------------------------------------\n",
      "intercepto      622.0397     66.472      9.358      0.000     490.834     753.245\n",
      "anos_como_ceo    12.8670      5.630      2.286      0.024       1.755      23.979\n",
      "vendas_totais     0.0183      0.010      1.805      0.073      -0.002       0.038\n",
      "valuation         0.0242      0.010      2.536      0.012       0.005       0.043\n",
      "margem           -1.6813      2.257     -0.745      0.457      -6.136       2.773\n",
      "==============================================================================\n",
      "Omnibus:                      187.504   Durbin-Watson:                   2.154\n",
      "Prob(Omnibus):                  0.000   Jarque-Bera (JB):             6452.474\n",
      "Skew:                           3.919   Prob(JB):                         0.00\n",
      "Kurtosis:                      31.522   Cond. No.                     1.62e+04\n",
      "==============================================================================\n",
      "\n",
      "Warnings:\n",
      "[1] Standard Errors assume that the covariance matrix of the errors is correctly specified.\n",
      "[2] The condition number is large, 1.62e+04. This might indicate that there are\n",
      "strong multicollinearity or other numerical problems.\n"
     ]
    }
   ],
   "source": [
    "# Variável resposta\n",
    "y_ajuste_1 = df_salarioCEO_original['salario']\n",
    "\n",
    "# Variáveis explicativas\n",
    "x_ajuste_1 = df_salarioCEO_original[ ['intercepto', 'anos_como_ceo', 'vendas_totais', 'valuation', 'margem'] ]\n",
    "\n",
    "# Ajusta o modelo e retorna os resultados\n",
    "modelo_ajuste_1 = sm.OLS(y_ajuste_1, x_ajuste_1)\n",
    "resultado_ajuste_1 = modelo_ajuste_1.fit()\n",
    "print(resultado_ajuste_1.summary())"
   ]
  },
  {
   "cell_type": "markdown",
   "metadata": {},
   "source": [
    "**<span style=\"color:red\">Comentários Itano</span>**<br>\n",
    "* No processo de exclusão das variáveis, sempre inicie pela menos significativa, ou seja, aquela que possui o maior p-valor, caso contrário o processo de eliminação das variáveis pode excluir uma que seja importante para o modelo.\n",
    "</span>"
   ]
  },
  {
   "cell_type": "markdown",
   "metadata": {},
   "source": [
    "#### AJUSTE 2: Removendo a variável \"anos_empresa\" e \"vendas_totais\" do modelo"
   ]
  },
  {
   "cell_type": "code",
   "execution_count": 15,
   "metadata": {},
   "outputs": [
    {
     "name": "stdout",
     "output_type": "stream",
     "text": [
      "                            OLS Regression Results                            \n",
      "==============================================================================\n",
      "Dep. Variable:                salario   R-squared:                       0.189\n",
      "Model:                            OLS   Adj. R-squared:                  0.175\n",
      "Method:                 Least Squares   F-statistic:                     13.42\n",
      "Date:                Fri, 09 Apr 2021   Prob (F-statistic):           6.51e-08\n",
      "Time:                        19:54:18   Log-Likelihood:                -1360.7\n",
      "No. Observations:                 177   AIC:                             2729.\n",
      "Df Residuals:                     173   BIC:                             2742.\n",
      "Df Model:                           3                                         \n",
      "Covariance Type:            nonrobust                                         \n",
      "=================================================================================\n",
      "                    coef    std err          t      P>|t|      [0.025      0.975]\n",
      "---------------------------------------------------------------------------------\n",
      "intercepto      650.5053     64.994     10.009      0.000     522.222     778.788\n",
      "anos_como_ceo    11.7848      5.634      2.092      0.038       0.664      22.905\n",
      "valuation         0.0374      0.006      5.967      0.000       0.025       0.050\n",
      "margem           -2.0851      2.260     -0.922      0.358      -6.546       2.376\n",
      "==============================================================================\n",
      "Omnibus:                      184.493   Durbin-Watson:                   2.150\n",
      "Prob(Omnibus):                  0.000   Jarque-Bera (JB):             6079.894\n",
      "Skew:                           3.834   Prob(JB):                         0.00\n",
      "Kurtosis:                      30.669   Cond. No.                     1.19e+04\n",
      "==============================================================================\n",
      "\n",
      "Warnings:\n",
      "[1] Standard Errors assume that the covariance matrix of the errors is correctly specified.\n",
      "[2] The condition number is large, 1.19e+04. This might indicate that there are\n",
      "strong multicollinearity or other numerical problems.\n"
     ]
    }
   ],
   "source": [
    "# Variável resposta\n",
    "y_ajuste_2 = df_salarioCEO_original['salario']\n",
    "\n",
    "# Variáveis explicativas\n",
    "x_ajuste_2 = df_salarioCEO_original[ ['intercepto', 'anos_como_ceo', 'valuation', 'margem'] ]\n",
    "\n",
    "# Ajusta o modelo e retorna os resultados\n",
    "modelo_ajuste_2 = sm.OLS(y_ajuste_2, x_ajuste_2)\n",
    "resultado_ajuste_2 = modelo_ajuste_2.fit()\n",
    "print(resultado_ajuste_2.summary())"
   ]
  },
  {
   "cell_type": "markdown",
   "metadata": {},
   "source": [
    "#### AJUSTE 3: Removendo a variável \"anos_empresa\", \"vendas_totais\" e \"margem\" do modelo"
   ]
  },
  {
   "cell_type": "code",
   "execution_count": 16,
   "metadata": {},
   "outputs": [
    {
     "name": "stdout",
     "output_type": "stream",
     "text": [
      "                            OLS Regression Results                            \n",
      "==============================================================================\n",
      "Dep. Variable:                salario   R-squared:                       0.185\n",
      "Model:                            OLS   Adj. R-squared:                  0.175\n",
      "Method:                 Least Squares   F-statistic:                     19.72\n",
      "Date:                Fri, 09 Apr 2021   Prob (F-statistic):           1.92e-08\n",
      "Time:                        19:54:21   Log-Likelihood:                -1361.1\n",
      "No. Observations:                 177   AIC:                             2728.\n",
      "Df Residuals:                     174   BIC:                             2738.\n",
      "Df Model:                           2                                         \n",
      "Covariance Type:            nonrobust                                         \n",
      "=================================================================================\n",
      "                    coef    std err          t      P>|t|      [0.025      0.975]\n",
      "---------------------------------------------------------------------------------\n",
      "intercepto      640.4990     64.055      9.999      0.000     514.075     766.923\n",
      "anos_como_ceo    11.5335      5.625      2.050      0.042       0.431      22.636\n",
      "valuation         0.0370      0.006      5.922      0.000       0.025       0.049\n",
      "==============================================================================\n",
      "Omnibus:                      184.205   Durbin-Watson:                   2.166\n",
      "Prob(Omnibus):                  0.000   Jarque-Bera (JB):             6007.782\n",
      "Skew:                           3.830   Prob(JB):                         0.00\n",
      "Kurtosis:                      30.495   Cond. No.                     1.18e+04\n",
      "==============================================================================\n",
      "\n",
      "Warnings:\n",
      "[1] Standard Errors assume that the covariance matrix of the errors is correctly specified.\n",
      "[2] The condition number is large, 1.18e+04. This might indicate that there are\n",
      "strong multicollinearity or other numerical problems.\n"
     ]
    }
   ],
   "source": [
    "# Variável resposta\n",
    "y_ajuste_3 = df_salarioCEO_original['salario']\n",
    "\n",
    "# Variáveis explicativas\n",
    "x_ajuste_3 = df_salarioCEO_original[ ['intercepto', 'anos_como_ceo', 'valuation'] ]\n",
    "\n",
    "# Ajusta o modelo e retorna os resultados\n",
    "modelo_ajuste_3 = sm.OLS(y_ajuste_3, x_ajuste_3)\n",
    "resultado_ajuste_3 = modelo_ajuste_3.fit()\n",
    "print(resultado_ajuste_3.summary())"
   ]
  },
  {
   "cell_type": "markdown",
   "metadata": {},
   "source": [
    "**<span style=\"color:red\">Comentários Itano</span>**<br>\n",
    "* Muito bom você ter mantido o histórico das alterações ao invés de colocar apenas a versão final. Isso é bastante importante para manter a rastreabilidade e documentação do processo.\n",
    "</span>"
   ]
  },
  {
   "cell_type": "markdown",
   "metadata": {},
   "source": [
    "### Interprete os coeficientes do modelo em termos do problema de negócio."
   ]
  },
  {
   "cell_type": "markdown",
   "metadata": {},
   "source": [
    "Mesmo retirando as três variáveis que estatisticamente não contribuiam com o modelo, o R quadrado ajustado continua baixo (0,175).  \n",
    "No entanto o H0 dos testes de hipótese das duas variáveis do modelo do terceiro ajuste mostram que as mesmas estatisticamente contribuem para o modelo:\n",
    "1. __anos como CEO__: p valor igual a 0,042. Hipótese não plausível (estatisticamente a variável contribui para o modelo)\n",
    "2. __valuation__: p valor igual a 0. Hipótese não plausível (estatisticamente a variável contribui para o modelo)"
   ]
  },
  {
   "cell_type": "markdown",
   "metadata": {},
   "source": [
    "**<span style=\"color:red\">Comentários Itano</span>**<br>\n",
    "* Ao terminar o processo de eliminação das variáveis e encontrar o melhor modelo, é importante interpretar novamente os coeficientes por 2 motivos: \n",
    "    1. Validar que os valores encontrados estão coerentes.\n",
    "    2. Comunicar aos analistas de negócios quais as relações modeladas.\n",
    "</span>"
   ]
  },
  {
   "cell_type": "markdown",
   "metadata": {},
   "source": [
    "### É possível melhorar a qualidade do ajuste do modelo? Isto é, melhorar o R Quadrado ajustado?"
   ]
  },
  {
   "cell_type": "markdown",
   "metadata": {},
   "source": [
    "`Dica :` Muitas vezes a variável resposta não é correlacionada linearmente com as variáveis explicativas (features). Isso acontece pois as features podem ter outra relação de linearidade, como por exemplo a log-linear. Desta forma, é útil tentar ajustar um modelo log-linear, da seguinte forma:"
   ]
  },
  {
   "cell_type": "markdown",
   "metadata": {},
   "source": [
    "log(salario) = ${\\beta}_{0}+{\\beta}_{1}*log(anos empresa) + {\\beta}_{2}*log(anos como ceo) + {\\beta}_{3}*log(vendas totais) + {\\beta}_{4}*log(valuation) + {\\beta}_{5}*log(margem)  $"
   ]
  },
  {
   "cell_type": "markdown",
   "metadata": {},
   "source": [
    "Nem todas as varíaves ficaram melhores usando log. Portanto, é útil misturar features com e sem transformações de log. Veja exemplo: "
   ]
  },
  {
   "cell_type": "markdown",
   "metadata": {},
   "source": [
    "log(salario) = ${\\beta}_{0}+{\\beta}_{1}*anos empresa + {\\beta}_{2}*anos como ceo+ {\\beta}_{3}*log(vendas totais) + {\\beta}_{4}*log(valuation) + {\\beta}_{5}*margem  $"
   ]
  },
  {
   "cell_type": "code",
   "execution_count": 17,
   "metadata": {},
   "outputs": [
    {
     "data": {
      "text/html": [
       "<div>\n",
       "<style scoped>\n",
       "    .dataframe tbody tr th:only-of-type {\n",
       "        vertical-align: middle;\n",
       "    }\n",
       "\n",
       "    .dataframe tbody tr th {\n",
       "        vertical-align: top;\n",
       "    }\n",
       "\n",
       "    .dataframe thead th {\n",
       "        text-align: right;\n",
       "    }\n",
       "</style>\n",
       "<table border=\"1\" class=\"dataframe\">\n",
       "  <thead>\n",
       "    <tr style=\"text-align: right;\">\n",
       "      <th></th>\n",
       "      <th>anos_empresa</th>\n",
       "      <th>anos_como_ceo</th>\n",
       "      <th>salario</th>\n",
       "      <th>vendas_totais</th>\n",
       "      <th>valuation</th>\n",
       "      <th>margem</th>\n",
       "      <th>intercepto</th>\n",
       "    </tr>\n",
       "  </thead>\n",
       "  <tbody>\n",
       "    <tr>\n",
       "      <th>0</th>\n",
       "      <td>9</td>\n",
       "      <td>2</td>\n",
       "      <td>1161</td>\n",
       "      <td>6200</td>\n",
       "      <td>23200</td>\n",
       "      <td>15.6</td>\n",
       "      <td>1</td>\n",
       "    </tr>\n",
       "    <tr>\n",
       "      <th>1</th>\n",
       "      <td>10</td>\n",
       "      <td>10</td>\n",
       "      <td>600</td>\n",
       "      <td>283</td>\n",
       "      <td>1100</td>\n",
       "      <td>17.0</td>\n",
       "      <td>1</td>\n",
       "    </tr>\n",
       "    <tr>\n",
       "      <th>2</th>\n",
       "      <td>9</td>\n",
       "      <td>3</td>\n",
       "      <td>378</td>\n",
       "      <td>169</td>\n",
       "      <td>1100</td>\n",
       "      <td>23.7</td>\n",
       "      <td>1</td>\n",
       "    </tr>\n",
       "    <tr>\n",
       "      <th>3</th>\n",
       "      <td>22</td>\n",
       "      <td>22</td>\n",
       "      <td>650</td>\n",
       "      <td>1100</td>\n",
       "      <td>999</td>\n",
       "      <td>-4.9</td>\n",
       "      <td>1</td>\n",
       "    </tr>\n",
       "    <tr>\n",
       "      <th>4</th>\n",
       "      <td>8</td>\n",
       "      <td>6</td>\n",
       "      <td>496</td>\n",
       "      <td>350</td>\n",
       "      <td>387</td>\n",
       "      <td>8.0</td>\n",
       "      <td>1</td>\n",
       "    </tr>\n",
       "    <tr>\n",
       "      <th>5</th>\n",
       "      <td>7</td>\n",
       "      <td>7</td>\n",
       "      <td>1066</td>\n",
       "      <td>18999</td>\n",
       "      <td>3900</td>\n",
       "      <td>3.2</td>\n",
       "      <td>1</td>\n",
       "    </tr>\n",
       "    <tr>\n",
       "      <th>6</th>\n",
       "      <td>35</td>\n",
       "      <td>10</td>\n",
       "      <td>945</td>\n",
       "      <td>535</td>\n",
       "      <td>622</td>\n",
       "      <td>4.5</td>\n",
       "      <td>1</td>\n",
       "    </tr>\n",
       "    <tr>\n",
       "      <th>7</th>\n",
       "      <td>32</td>\n",
       "      <td>8</td>\n",
       "      <td>1260</td>\n",
       "      <td>4799</td>\n",
       "      <td>2100</td>\n",
       "      <td>4.0</td>\n",
       "      <td>1</td>\n",
       "    </tr>\n",
       "    <tr>\n",
       "      <th>8</th>\n",
       "      <td>4</td>\n",
       "      <td>4</td>\n",
       "      <td>502</td>\n",
       "      <td>610</td>\n",
       "      <td>453</td>\n",
       "      <td>1.1</td>\n",
       "      <td>1</td>\n",
       "    </tr>\n",
       "    <tr>\n",
       "      <th>9</th>\n",
       "      <td>39</td>\n",
       "      <td>5</td>\n",
       "      <td>1094</td>\n",
       "      <td>2899</td>\n",
       "      <td>3900</td>\n",
       "      <td>7.9</td>\n",
       "      <td>1</td>\n",
       "    </tr>\n",
       "    <tr>\n",
       "      <th>10</th>\n",
       "      <td>26</td>\n",
       "      <td>7</td>\n",
       "      <td>601</td>\n",
       "      <td>1200</td>\n",
       "      <td>533</td>\n",
       "      <td>2.8</td>\n",
       "      <td>1</td>\n",
       "    </tr>\n",
       "    <tr>\n",
       "      <th>11</th>\n",
       "      <td>39</td>\n",
       "      <td>8</td>\n",
       "      <td>355</td>\n",
       "      <td>560</td>\n",
       "      <td>477</td>\n",
       "      <td>1.4</td>\n",
       "      <td>1</td>\n",
       "    </tr>\n",
       "    <tr>\n",
       "      <th>12</th>\n",
       "      <td>37</td>\n",
       "      <td>37</td>\n",
       "      <td>1200</td>\n",
       "      <td>795</td>\n",
       "      <td>677</td>\n",
       "      <td>4.4</td>\n",
       "      <td>1</td>\n",
       "    </tr>\n",
       "    <tr>\n",
       "      <th>13</th>\n",
       "      <td>25</td>\n",
       "      <td>1</td>\n",
       "      <td>696</td>\n",
       "      <td>8199</td>\n",
       "      <td>5699</td>\n",
       "      <td>2.9</td>\n",
       "      <td>1</td>\n",
       "    </tr>\n",
       "    <tr>\n",
       "      <th>14</th>\n",
       "      <td>21</td>\n",
       "      <td>11</td>\n",
       "      <td>1040</td>\n",
       "      <td>4299</td>\n",
       "      <td>1399</td>\n",
       "      <td>2.1</td>\n",
       "      <td>1</td>\n",
       "    </tr>\n",
       "    <tr>\n",
       "      <th>15</th>\n",
       "      <td>7</td>\n",
       "      <td>7</td>\n",
       "      <td>244</td>\n",
       "      <td>135</td>\n",
       "      <td>558</td>\n",
       "      <td>17.8</td>\n",
       "      <td>1</td>\n",
       "    </tr>\n",
       "    <tr>\n",
       "      <th>16</th>\n",
       "      <td>38</td>\n",
       "      <td>4</td>\n",
       "      <td>816</td>\n",
       "      <td>1300</td>\n",
       "      <td>847</td>\n",
       "      <td>4.2</td>\n",
       "      <td>1</td>\n",
       "    </tr>\n",
       "    <tr>\n",
       "      <th>17</th>\n",
       "      <td>31</td>\n",
       "      <td>12</td>\n",
       "      <td>1674</td>\n",
       "      <td>673</td>\n",
       "      <td>1200</td>\n",
       "      <td>17.1</td>\n",
       "      <td>1</td>\n",
       "    </tr>\n",
       "    <tr>\n",
       "      <th>18</th>\n",
       "      <td>33</td>\n",
       "      <td>24</td>\n",
       "      <td>970</td>\n",
       "      <td>1399</td>\n",
       "      <td>609</td>\n",
       "      <td>4.9</td>\n",
       "      <td>1</td>\n",
       "    </tr>\n",
       "    <tr>\n",
       "      <th>19</th>\n",
       "      <td>36</td>\n",
       "      <td>1</td>\n",
       "      <td>609</td>\n",
       "      <td>1100</td>\n",
       "      <td>880</td>\n",
       "      <td>6.3</td>\n",
       "      <td>1</td>\n",
       "    </tr>\n",
       "  </tbody>\n",
       "</table>\n",
       "</div>"
      ],
      "text/plain": [
       "    anos_empresa  anos_como_ceo  salario  vendas_totais  valuation  margem  \\\n",
       "0              9              2     1161           6200      23200    15.6   \n",
       "1             10             10      600            283       1100    17.0   \n",
       "2              9              3      378            169       1100    23.7   \n",
       "3             22             22      650           1100        999    -4.9   \n",
       "4              8              6      496            350        387     8.0   \n",
       "5              7              7     1066          18999       3900     3.2   \n",
       "6             35             10      945            535        622     4.5   \n",
       "7             32              8     1260           4799       2100     4.0   \n",
       "8              4              4      502            610        453     1.1   \n",
       "9             39              5     1094           2899       3900     7.9   \n",
       "10            26              7      601           1200        533     2.8   \n",
       "11            39              8      355            560        477     1.4   \n",
       "12            37             37     1200            795        677     4.4   \n",
       "13            25              1      696           8199       5699     2.9   \n",
       "14            21             11     1040           4299       1399     2.1   \n",
       "15             7              7      244            135        558    17.8   \n",
       "16            38              4      816           1300        847     4.2   \n",
       "17            31             12     1674            673       1200    17.1   \n",
       "18            33             24      970           1399        609     4.9   \n",
       "19            36              1      609           1100        880     6.3   \n",
       "\n",
       "    intercepto  \n",
       "0            1  \n",
       "1            1  \n",
       "2            1  \n",
       "3            1  \n",
       "4            1  \n",
       "5            1  \n",
       "6            1  \n",
       "7            1  \n",
       "8            1  \n",
       "9            1  \n",
       "10           1  \n",
       "11           1  \n",
       "12           1  \n",
       "13           1  \n",
       "14           1  \n",
       "15           1  \n",
       "16           1  \n",
       "17           1  \n",
       "18           1  \n",
       "19           1  "
      ]
     },
     "execution_count": 17,
     "metadata": {},
     "output_type": "execute_result"
    }
   ],
   "source": [
    "# Copiando o data frame original para um novo ajustado, que irá receber as variáveis com seus LOGS calculados \n",
    "df_salarioCEO_ajustada = df_salarioCEO_original\n",
    "df_salarioCEO_ajustada.head(20)"
   ]
  },
  {
   "cell_type": "code",
   "execution_count": 18,
   "metadata": {},
   "outputs": [
    {
     "name": "stderr",
     "output_type": "stream",
     "text": [
      "d:\\venv\\pred_64\\lib\\site-packages\\pandas\\core\\series.py:679: RuntimeWarning: invalid value encountered in log\n",
      "  result = getattr(ufunc, method)(*inputs, **kwargs)\n"
     ]
    },
    {
     "data": {
      "text/html": [
       "<div>\n",
       "<style scoped>\n",
       "    .dataframe tbody tr th:only-of-type {\n",
       "        vertical-align: middle;\n",
       "    }\n",
       "\n",
       "    .dataframe tbody tr th {\n",
       "        vertical-align: top;\n",
       "    }\n",
       "\n",
       "    .dataframe thead th {\n",
       "        text-align: right;\n",
       "    }\n",
       "</style>\n",
       "<table border=\"1\" class=\"dataframe\">\n",
       "  <thead>\n",
       "    <tr style=\"text-align: right;\">\n",
       "      <th></th>\n",
       "      <th>anos_empresa</th>\n",
       "      <th>anos_como_ceo</th>\n",
       "      <th>salario</th>\n",
       "      <th>vendas_totais</th>\n",
       "      <th>valuation</th>\n",
       "      <th>margem</th>\n",
       "      <th>intercepto</th>\n",
       "      <th>ln_salario</th>\n",
       "      <th>ln_anos_empresa</th>\n",
       "      <th>ln_anos_como_ceo</th>\n",
       "      <th>ln_vendas_totais</th>\n",
       "      <th>ln_valuation</th>\n",
       "      <th>ln_margem</th>\n",
       "    </tr>\n",
       "  </thead>\n",
       "  <tbody>\n",
       "    <tr>\n",
       "      <th>51</th>\n",
       "      <td>18</td>\n",
       "      <td>7</td>\n",
       "      <td>600</td>\n",
       "      <td>11699</td>\n",
       "      <td>3999</td>\n",
       "      <td>-0.3</td>\n",
       "      <td>1</td>\n",
       "      <td>6.396930</td>\n",
       "      <td>2.944439</td>\n",
       "      <td>2.079442</td>\n",
       "      <td>9.367344</td>\n",
       "      <td>8.294050</td>\n",
       "      <td>-0.356675</td>\n",
       "    </tr>\n",
       "    <tr>\n",
       "      <th>80</th>\n",
       "      <td>27</td>\n",
       "      <td>14</td>\n",
       "      <td>950</td>\n",
       "      <td>2600</td>\n",
       "      <td>1500</td>\n",
       "      <td>0.2</td>\n",
       "      <td>1</td>\n",
       "      <td>6.856462</td>\n",
       "      <td>3.332205</td>\n",
       "      <td>2.708050</td>\n",
       "      <td>7.863651</td>\n",
       "      <td>7.313887</td>\n",
       "      <td>0.182322</td>\n",
       "    </tr>\n",
       "    <tr>\n",
       "      <th>100</th>\n",
       "      <td>26</td>\n",
       "      <td>11</td>\n",
       "      <td>1748</td>\n",
       "      <td>8099</td>\n",
       "      <td>9999</td>\n",
       "      <td>0.5</td>\n",
       "      <td>1</td>\n",
       "      <td>7.466228</td>\n",
       "      <td>3.295837</td>\n",
       "      <td>2.484907</td>\n",
       "      <td>8.999619</td>\n",
       "      <td>9.210340</td>\n",
       "      <td>0.405465</td>\n",
       "    </tr>\n",
       "    <tr>\n",
       "      <th>115</th>\n",
       "      <td>22</td>\n",
       "      <td>2</td>\n",
       "      <td>558</td>\n",
       "      <td>2100</td>\n",
       "      <td>686</td>\n",
       "      <td>0.6</td>\n",
       "      <td>1</td>\n",
       "      <td>6.324359</td>\n",
       "      <td>3.135494</td>\n",
       "      <td>1.098612</td>\n",
       "      <td>7.650169</td>\n",
       "      <td>6.532334</td>\n",
       "      <td>0.470004</td>\n",
       "    </tr>\n",
       "    <tr>\n",
       "      <th>42</th>\n",
       "      <td>3</td>\n",
       "      <td>3</td>\n",
       "      <td>1487</td>\n",
       "      <td>22200</td>\n",
       "      <td>2800</td>\n",
       "      <td>0.8</td>\n",
       "      <td>1</td>\n",
       "      <td>7.304516</td>\n",
       "      <td>1.386294</td>\n",
       "      <td>1.386294</td>\n",
       "      <td>10.007893</td>\n",
       "      <td>7.937732</td>\n",
       "      <td>0.587787</td>\n",
       "    </tr>\n",
       "    <tr>\n",
       "      <th>...</th>\n",
       "      <td>...</td>\n",
       "      <td>...</td>\n",
       "      <td>...</td>\n",
       "      <td>...</td>\n",
       "      <td>...</td>\n",
       "      <td>...</td>\n",
       "      <td>...</td>\n",
       "      <td>...</td>\n",
       "      <td>...</td>\n",
       "      <td>...</td>\n",
       "      <td>...</td>\n",
       "      <td>...</td>\n",
       "      <td>...</td>\n",
       "    </tr>\n",
       "    <tr>\n",
       "      <th>90</th>\n",
       "      <td>28</td>\n",
       "      <td>5</td>\n",
       "      <td>650</td>\n",
       "      <td>5699</td>\n",
       "      <td>816</td>\n",
       "      <td>-7.7</td>\n",
       "      <td>1</td>\n",
       "      <td>6.476972</td>\n",
       "      <td>3.367296</td>\n",
       "      <td>1.791759</td>\n",
       "      <td>8.648221</td>\n",
       "      <td>6.705639</td>\n",
       "      <td>NaN</td>\n",
       "    </tr>\n",
       "    <tr>\n",
       "      <th>113</th>\n",
       "      <td>40</td>\n",
       "      <td>6</td>\n",
       "      <td>678</td>\n",
       "      <td>4899</td>\n",
       "      <td>1399</td>\n",
       "      <td>-9.4</td>\n",
       "      <td>1</td>\n",
       "      <td>6.519147</td>\n",
       "      <td>3.713572</td>\n",
       "      <td>1.945910</td>\n",
       "      <td>8.496990</td>\n",
       "      <td>7.244228</td>\n",
       "      <td>NaN</td>\n",
       "    </tr>\n",
       "    <tr>\n",
       "      <th>146</th>\n",
       "      <td>18</td>\n",
       "      <td>6</td>\n",
       "      <td>1100</td>\n",
       "      <td>563</td>\n",
       "      <td>543</td>\n",
       "      <td>-48.1</td>\n",
       "      <td>1</td>\n",
       "      <td>7.003065</td>\n",
       "      <td>2.944439</td>\n",
       "      <td>1.945910</td>\n",
       "      <td>6.335054</td>\n",
       "      <td>6.298949</td>\n",
       "      <td>NaN</td>\n",
       "    </tr>\n",
       "    <tr>\n",
       "      <th>167</th>\n",
       "      <td>4</td>\n",
       "      <td>1</td>\n",
       "      <td>369</td>\n",
       "      <td>64</td>\n",
       "      <td>1200</td>\n",
       "      <td>-203.1</td>\n",
       "      <td>1</td>\n",
       "      <td>5.910797</td>\n",
       "      <td>1.609438</td>\n",
       "      <td>0.693147</td>\n",
       "      <td>4.174387</td>\n",
       "      <td>7.090910</td>\n",
       "      <td>NaN</td>\n",
       "    </tr>\n",
       "    <tr>\n",
       "      <th>175</th>\n",
       "      <td>18</td>\n",
       "      <td>18</td>\n",
       "      <td>2220</td>\n",
       "      <td>277</td>\n",
       "      <td>539</td>\n",
       "      <td>-28.9</td>\n",
       "      <td>1</td>\n",
       "      <td>7.705262</td>\n",
       "      <td>2.944439</td>\n",
       "      <td>2.944439</td>\n",
       "      <td>5.627621</td>\n",
       "      <td>6.291569</td>\n",
       "      <td>NaN</td>\n",
       "    </tr>\n",
       "  </tbody>\n",
       "</table>\n",
       "<p>177 rows × 13 columns</p>\n",
       "</div>"
      ],
      "text/plain": [
       "     anos_empresa  anos_como_ceo  salario  vendas_totais  valuation  margem  \\\n",
       "51             18              7      600          11699       3999    -0.3   \n",
       "80             27             14      950           2600       1500     0.2   \n",
       "100            26             11     1748           8099       9999     0.5   \n",
       "115            22              2      558           2100        686     0.6   \n",
       "42              3              3     1487          22200       2800     0.8   \n",
       "..            ...            ...      ...            ...        ...     ...   \n",
       "90             28              5      650           5699        816    -7.7   \n",
       "113            40              6      678           4899       1399    -9.4   \n",
       "146            18              6     1100            563        543   -48.1   \n",
       "167             4              1      369             64       1200  -203.1   \n",
       "175            18             18     2220            277        539   -28.9   \n",
       "\n",
       "     intercepto  ln_salario  ln_anos_empresa  ln_anos_como_ceo  \\\n",
       "51            1    6.396930         2.944439          2.079442   \n",
       "80            1    6.856462         3.332205          2.708050   \n",
       "100           1    7.466228         3.295837          2.484907   \n",
       "115           1    6.324359         3.135494          1.098612   \n",
       "42            1    7.304516         1.386294          1.386294   \n",
       "..          ...         ...              ...               ...   \n",
       "90            1    6.476972         3.367296          1.791759   \n",
       "113           1    6.519147         3.713572          1.945910   \n",
       "146           1    7.003065         2.944439          1.945910   \n",
       "167           1    5.910797         1.609438          0.693147   \n",
       "175           1    7.705262         2.944439          2.944439   \n",
       "\n",
       "     ln_vendas_totais  ln_valuation  ln_margem  \n",
       "51           9.367344      8.294050  -0.356675  \n",
       "80           7.863651      7.313887   0.182322  \n",
       "100          8.999619      9.210340   0.405465  \n",
       "115          7.650169      6.532334   0.470004  \n",
       "42          10.007893      7.937732   0.587787  \n",
       "..                ...           ...        ...  \n",
       "90           8.648221      6.705639        NaN  \n",
       "113          8.496990      7.244228        NaN  \n",
       "146          6.335054      6.298949        NaN  \n",
       "167          4.174387      7.090910        NaN  \n",
       "175          5.627621      6.291569        NaN  \n",
       "\n",
       "[177 rows x 13 columns]"
      ]
     },
     "execution_count": 18,
     "metadata": {},
     "output_type": "execute_result"
    }
   ],
   "source": [
    "df_salarioCEO_ajustada['ln_salario'] = np.log(df_salarioCEO_ajustada['salario'])\n",
    "df_salarioCEO_ajustada['ln_anos_empresa'] = np.log(df_salarioCEO_ajustada['anos_empresa']+1)\n",
    "df_salarioCEO_ajustada['ln_anos_como_ceo'] = np.log(df_salarioCEO_ajustada['anos_como_ceo']+1)\n",
    "df_salarioCEO_ajustada['ln_vendas_totais'] = np.log(df_salarioCEO_ajustada['vendas_totais']+1)\n",
    "df_salarioCEO_ajustada['ln_valuation'] = np.log(df_salarioCEO_ajustada['valuation']+1)\n",
    "df_salarioCEO_ajustada['ln_margem'] = np.log(df_salarioCEO_ajustada['margem']+1)\n",
    "df_salarioCEO_ajustada.sort_values(by=['ln_margem'])"
   ]
  },
  {
   "cell_type": "code",
   "execution_count": 19,
   "metadata": {},
   "outputs": [
    {
     "data": {
      "text/plain": [
       "anos_empresa        0\n",
       "anos_como_ceo       0\n",
       "salario             0\n",
       "vendas_totais       0\n",
       "valuation           0\n",
       "margem              0\n",
       "intercepto          0\n",
       "ln_salario          0\n",
       "ln_anos_empresa     0\n",
       "ln_anos_como_ceo    0\n",
       "ln_vendas_totais    0\n",
       "ln_valuation        0\n",
       "ln_margem           8\n",
       "dtype: int64"
      ]
     },
     "execution_count": 19,
     "metadata": {},
     "output_type": "execute_result"
    }
   ],
   "source": [
    "# Verificando valores missing (NaN)\n",
    "df_salarioCEO_ajustada.isna().sum()\n",
    "\n",
    "# Como vemos abaixo, somente a variável \"ln_margem\" aresenta valores missing"
   ]
  },
  {
   "cell_type": "code",
   "execution_count": 20,
   "metadata": {},
   "outputs": [
    {
     "data": {
      "text/html": [
       "<div>\n",
       "<style scoped>\n",
       "    .dataframe tbody tr th:only-of-type {\n",
       "        vertical-align: middle;\n",
       "    }\n",
       "\n",
       "    .dataframe tbody tr th {\n",
       "        vertical-align: top;\n",
       "    }\n",
       "\n",
       "    .dataframe thead th {\n",
       "        text-align: right;\n",
       "    }\n",
       "</style>\n",
       "<table border=\"1\" class=\"dataframe\">\n",
       "  <thead>\n",
       "    <tr style=\"text-align: right;\">\n",
       "      <th></th>\n",
       "      <th>anos_empresa</th>\n",
       "      <th>anos_como_ceo</th>\n",
       "      <th>salario</th>\n",
       "      <th>vendas_totais</th>\n",
       "      <th>valuation</th>\n",
       "      <th>margem</th>\n",
       "      <th>intercepto</th>\n",
       "      <th>ln_salario</th>\n",
       "      <th>ln_anos_empresa</th>\n",
       "      <th>ln_anos_como_ceo</th>\n",
       "      <th>ln_vendas_totais</th>\n",
       "      <th>ln_valuation</th>\n",
       "      <th>ln_margem</th>\n",
       "    </tr>\n",
       "  </thead>\n",
       "  <tbody>\n",
       "    <tr>\n",
       "      <th>count</th>\n",
       "      <td>177.000000</td>\n",
       "      <td>177.000000</td>\n",
       "      <td>177.000000</td>\n",
       "      <td>177.000000</td>\n",
       "      <td>177.000000</td>\n",
       "      <td>177.000000</td>\n",
       "      <td>177.0</td>\n",
       "      <td>177.000000</td>\n",
       "      <td>177.000000</td>\n",
       "      <td>177.000000</td>\n",
       "      <td>177.000000</td>\n",
       "      <td>177.000000</td>\n",
       "      <td>169.000000</td>\n",
       "    </tr>\n",
       "    <tr>\n",
       "      <th>mean</th>\n",
       "      <td>22.502825</td>\n",
       "      <td>7.954802</td>\n",
       "      <td>865.344633</td>\n",
       "      <td>3528.983051</td>\n",
       "      <td>3599.875706</td>\n",
       "      <td>6.423729</td>\n",
       "      <td>1.0</td>\n",
       "      <td>6.581902</td>\n",
       "      <td>2.964321</td>\n",
       "      <td>1.894496</td>\n",
       "      <td>7.232249</td>\n",
       "      <td>7.399896</td>\n",
       "      <td>2.055773</td>\n",
       "    </tr>\n",
       "    <tr>\n",
       "      <th>std</th>\n",
       "      <td>12.294735</td>\n",
       "      <td>7.150826</td>\n",
       "      <td>587.637837</td>\n",
       "      <td>6088.636588</td>\n",
       "      <td>6442.307591</td>\n",
       "      <td>17.864245</td>\n",
       "      <td>0.0</td>\n",
       "      <td>0.606844</td>\n",
       "      <td>0.692710</td>\n",
       "      <td>0.799650</td>\n",
       "      <td>1.430173</td>\n",
       "      <td>1.133124</td>\n",
       "      <td>0.668800</td>\n",
       "    </tr>\n",
       "    <tr>\n",
       "      <th>min</th>\n",
       "      <td>2.000000</td>\n",
       "      <td>0.000000</td>\n",
       "      <td>99.000000</td>\n",
       "      <td>29.000000</td>\n",
       "      <td>387.000000</td>\n",
       "      <td>-203.100000</td>\n",
       "      <td>1.0</td>\n",
       "      <td>4.595120</td>\n",
       "      <td>1.098612</td>\n",
       "      <td>0.000000</td>\n",
       "      <td>3.401197</td>\n",
       "      <td>5.961005</td>\n",
       "      <td>-0.356675</td>\n",
       "    </tr>\n",
       "    <tr>\n",
       "      <th>25%</th>\n",
       "      <td>12.000000</td>\n",
       "      <td>3.000000</td>\n",
       "      <td>470.000000</td>\n",
       "      <td>561.000000</td>\n",
       "      <td>644.000000</td>\n",
       "      <td>4.200000</td>\n",
       "      <td>1.0</td>\n",
       "      <td>6.152733</td>\n",
       "      <td>2.564949</td>\n",
       "      <td>1.386294</td>\n",
       "      <td>6.331502</td>\n",
       "      <td>6.469250</td>\n",
       "      <td>1.686399</td>\n",
       "    </tr>\n",
       "    <tr>\n",
       "      <th>50%</th>\n",
       "      <td>23.000000</td>\n",
       "      <td>6.000000</td>\n",
       "      <td>707.000000</td>\n",
       "      <td>1399.000000</td>\n",
       "      <td>1200.000000</td>\n",
       "      <td>6.800000</td>\n",
       "      <td>1.0</td>\n",
       "      <td>6.561031</td>\n",
       "      <td>3.178054</td>\n",
       "      <td>1.945910</td>\n",
       "      <td>7.244228</td>\n",
       "      <td>7.090910</td>\n",
       "      <td>2.104134</td>\n",
       "    </tr>\n",
       "    <tr>\n",
       "      <th>75%</th>\n",
       "      <td>33.000000</td>\n",
       "      <td>11.000000</td>\n",
       "      <td>1119.000000</td>\n",
       "      <td>3500.000000</td>\n",
       "      <td>3500.000000</td>\n",
       "      <td>10.900000</td>\n",
       "      <td>1.0</td>\n",
       "      <td>7.020191</td>\n",
       "      <td>3.526361</td>\n",
       "      <td>2.484907</td>\n",
       "      <td>8.160804</td>\n",
       "      <td>8.160804</td>\n",
       "      <td>2.501436</td>\n",
       "    </tr>\n",
       "    <tr>\n",
       "      <th>max</th>\n",
       "      <td>58.000000</td>\n",
       "      <td>37.000000</td>\n",
       "      <td>5299.000000</td>\n",
       "      <td>51300.000000</td>\n",
       "      <td>45400.000000</td>\n",
       "      <td>47.500000</td>\n",
       "      <td>1.0</td>\n",
       "      <td>8.575273</td>\n",
       "      <td>4.077537</td>\n",
       "      <td>3.637586</td>\n",
       "      <td>10.845466</td>\n",
       "      <td>10.723289</td>\n",
       "      <td>3.881564</td>\n",
       "    </tr>\n",
       "  </tbody>\n",
       "</table>\n",
       "</div>"
      ],
      "text/plain": [
       "       anos_empresa  anos_como_ceo      salario  vendas_totais     valuation  \\\n",
       "count    177.000000     177.000000   177.000000     177.000000    177.000000   \n",
       "mean      22.502825       7.954802   865.344633    3528.983051   3599.875706   \n",
       "std       12.294735       7.150826   587.637837    6088.636588   6442.307591   \n",
       "min        2.000000       0.000000    99.000000      29.000000    387.000000   \n",
       "25%       12.000000       3.000000   470.000000     561.000000    644.000000   \n",
       "50%       23.000000       6.000000   707.000000    1399.000000   1200.000000   \n",
       "75%       33.000000      11.000000  1119.000000    3500.000000   3500.000000   \n",
       "max       58.000000      37.000000  5299.000000   51300.000000  45400.000000   \n",
       "\n",
       "           margem  intercepto  ln_salario  ln_anos_empresa  ln_anos_como_ceo  \\\n",
       "count  177.000000       177.0  177.000000       177.000000        177.000000   \n",
       "mean     6.423729         1.0    6.581902         2.964321          1.894496   \n",
       "std     17.864245         0.0    0.606844         0.692710          0.799650   \n",
       "min   -203.100000         1.0    4.595120         1.098612          0.000000   \n",
       "25%      4.200000         1.0    6.152733         2.564949          1.386294   \n",
       "50%      6.800000         1.0    6.561031         3.178054          1.945910   \n",
       "75%     10.900000         1.0    7.020191         3.526361          2.484907   \n",
       "max     47.500000         1.0    8.575273         4.077537          3.637586   \n",
       "\n",
       "       ln_vendas_totais  ln_valuation   ln_margem  \n",
       "count        177.000000    177.000000  169.000000  \n",
       "mean           7.232249      7.399896    2.055773  \n",
       "std            1.430173      1.133124    0.668800  \n",
       "min            3.401197      5.961005   -0.356675  \n",
       "25%            6.331502      6.469250    1.686399  \n",
       "50%            7.244228      7.090910    2.104134  \n",
       "75%            8.160804      8.160804    2.501436  \n",
       "max           10.845466     10.723289    3.881564  "
      ]
     },
     "execution_count": 20,
     "metadata": {},
     "output_type": "execute_result"
    }
   ],
   "source": [
    "# Avaliando os valores NaN da variável \"ln_margem\"\n",
    "df_salarioCEO_ajustada.describe()"
   ]
  },
  {
   "cell_type": "code",
   "execution_count": 21,
   "metadata": {},
   "outputs": [
    {
     "data": {
      "text/plain": [
       "anos_empresa        0\n",
       "anos_como_ceo       0\n",
       "salario             0\n",
       "vendas_totais       0\n",
       "valuation           0\n",
       "margem              0\n",
       "intercepto          0\n",
       "ln_salario          0\n",
       "ln_anos_empresa     0\n",
       "ln_anos_como_ceo    0\n",
       "ln_vendas_totais    0\n",
       "ln_valuation        0\n",
       "ln_margem           0\n",
       "dtype: int64"
      ]
     },
     "execution_count": 21,
     "metadata": {},
     "output_type": "execute_result"
    }
   ],
   "source": [
    "# Substituindo os valores NaN da variável \"ln_margem\" pela sua média.\n",
    "df_salarioCEO_ajustada = df_salarioCEO_ajustada.fillna(df_salarioCEO_ajustada['ln_margem'].mean())\n",
    "df_salarioCEO_ajustada.isna().sum()"
   ]
  },
  {
   "cell_type": "markdown",
   "metadata": {},
   "source": [
    "**<span style=\"color:red\">Comentários Itano</span>**<br>\n",
    "* Excelente ter tido o cuidado de olhar as variáveis após a transformação!!! E também ter proposto substituir os valores missing pela média do ln_margem. Por ter feito a imputação, vale a pena analisar o impacto desse tratamento na distribuição da variável ln_margem.\n",
    "</span>"
   ]
  },
  {
   "cell_type": "code",
   "execution_count": 23,
   "metadata": {},
   "outputs": [
    {
     "data": {
      "text/html": [
       "<div>\n",
       "<style scoped>\n",
       "    .dataframe tbody tr th:only-of-type {\n",
       "        vertical-align: middle;\n",
       "    }\n",
       "\n",
       "    .dataframe tbody tr th {\n",
       "        vertical-align: top;\n",
       "    }\n",
       "\n",
       "    .dataframe thead th {\n",
       "        text-align: right;\n",
       "    }\n",
       "</style>\n",
       "<table border=\"1\" class=\"dataframe\">\n",
       "  <thead>\n",
       "    <tr style=\"text-align: right;\">\n",
       "      <th></th>\n",
       "      <th>anos_empresa</th>\n",
       "      <th>anos_como_ceo</th>\n",
       "      <th>salario</th>\n",
       "      <th>vendas_totais</th>\n",
       "      <th>valuation</th>\n",
       "      <th>margem</th>\n",
       "      <th>intercepto</th>\n",
       "      <th>ln_salario</th>\n",
       "      <th>ln_anos_empresa</th>\n",
       "      <th>ln_anos_como_ceo</th>\n",
       "      <th>ln_vendas_totais</th>\n",
       "      <th>ln_valuation</th>\n",
       "      <th>ln_margem</th>\n",
       "    </tr>\n",
       "  </thead>\n",
       "  <tbody>\n",
       "    <tr>\n",
       "      <th>count</th>\n",
       "      <td>177.000000</td>\n",
       "      <td>177.000000</td>\n",
       "      <td>177.000000</td>\n",
       "      <td>177.000000</td>\n",
       "      <td>177.000000</td>\n",
       "      <td>177.000000</td>\n",
       "      <td>177.0</td>\n",
       "      <td>177.000000</td>\n",
       "      <td>177.000000</td>\n",
       "      <td>177.000000</td>\n",
       "      <td>177.000000</td>\n",
       "      <td>177.000000</td>\n",
       "      <td>177.000000</td>\n",
       "    </tr>\n",
       "    <tr>\n",
       "      <th>mean</th>\n",
       "      <td>22.502825</td>\n",
       "      <td>7.954802</td>\n",
       "      <td>865.344633</td>\n",
       "      <td>3528.983051</td>\n",
       "      <td>3599.875706</td>\n",
       "      <td>6.423729</td>\n",
       "      <td>1.0</td>\n",
       "      <td>6.581902</td>\n",
       "      <td>2.964321</td>\n",
       "      <td>1.894496</td>\n",
       "      <td>7.232249</td>\n",
       "      <td>7.399896</td>\n",
       "      <td>2.055773</td>\n",
       "    </tr>\n",
       "    <tr>\n",
       "      <th>std</th>\n",
       "      <td>12.294735</td>\n",
       "      <td>7.150826</td>\n",
       "      <td>587.637837</td>\n",
       "      <td>6088.636588</td>\n",
       "      <td>6442.307591</td>\n",
       "      <td>17.864245</td>\n",
       "      <td>0.0</td>\n",
       "      <td>0.606844</td>\n",
       "      <td>0.692710</td>\n",
       "      <td>0.799650</td>\n",
       "      <td>1.430173</td>\n",
       "      <td>1.133124</td>\n",
       "      <td>0.653423</td>\n",
       "    </tr>\n",
       "    <tr>\n",
       "      <th>min</th>\n",
       "      <td>2.000000</td>\n",
       "      <td>0.000000</td>\n",
       "      <td>99.000000</td>\n",
       "      <td>29.000000</td>\n",
       "      <td>387.000000</td>\n",
       "      <td>-203.100000</td>\n",
       "      <td>1.0</td>\n",
       "      <td>4.595120</td>\n",
       "      <td>1.098612</td>\n",
       "      <td>0.000000</td>\n",
       "      <td>3.401197</td>\n",
       "      <td>5.961005</td>\n",
       "      <td>-0.356675</td>\n",
       "    </tr>\n",
       "    <tr>\n",
       "      <th>25%</th>\n",
       "      <td>12.000000</td>\n",
       "      <td>3.000000</td>\n",
       "      <td>470.000000</td>\n",
       "      <td>561.000000</td>\n",
       "      <td>644.000000</td>\n",
       "      <td>4.200000</td>\n",
       "      <td>1.0</td>\n",
       "      <td>6.152733</td>\n",
       "      <td>2.564949</td>\n",
       "      <td>1.386294</td>\n",
       "      <td>6.331502</td>\n",
       "      <td>6.469250</td>\n",
       "      <td>1.686399</td>\n",
       "    </tr>\n",
       "    <tr>\n",
       "      <th>50%</th>\n",
       "      <td>23.000000</td>\n",
       "      <td>6.000000</td>\n",
       "      <td>707.000000</td>\n",
       "      <td>1399.000000</td>\n",
       "      <td>1200.000000</td>\n",
       "      <td>6.800000</td>\n",
       "      <td>1.0</td>\n",
       "      <td>6.561031</td>\n",
       "      <td>3.178054</td>\n",
       "      <td>1.945910</td>\n",
       "      <td>7.244228</td>\n",
       "      <td>7.090910</td>\n",
       "      <td>2.055773</td>\n",
       "    </tr>\n",
       "    <tr>\n",
       "      <th>75%</th>\n",
       "      <td>33.000000</td>\n",
       "      <td>11.000000</td>\n",
       "      <td>1119.000000</td>\n",
       "      <td>3500.000000</td>\n",
       "      <td>3500.000000</td>\n",
       "      <td>10.900000</td>\n",
       "      <td>1.0</td>\n",
       "      <td>7.020191</td>\n",
       "      <td>3.526361</td>\n",
       "      <td>2.484907</td>\n",
       "      <td>8.160804</td>\n",
       "      <td>8.160804</td>\n",
       "      <td>2.476538</td>\n",
       "    </tr>\n",
       "    <tr>\n",
       "      <th>max</th>\n",
       "      <td>58.000000</td>\n",
       "      <td>37.000000</td>\n",
       "      <td>5299.000000</td>\n",
       "      <td>51300.000000</td>\n",
       "      <td>45400.000000</td>\n",
       "      <td>47.500000</td>\n",
       "      <td>1.0</td>\n",
       "      <td>8.575273</td>\n",
       "      <td>4.077537</td>\n",
       "      <td>3.637586</td>\n",
       "      <td>10.845466</td>\n",
       "      <td>10.723289</td>\n",
       "      <td>3.881564</td>\n",
       "    </tr>\n",
       "  </tbody>\n",
       "</table>\n",
       "</div>"
      ],
      "text/plain": [
       "       anos_empresa  anos_como_ceo      salario  vendas_totais     valuation  \\\n",
       "count    177.000000     177.000000   177.000000     177.000000    177.000000   \n",
       "mean      22.502825       7.954802   865.344633    3528.983051   3599.875706   \n",
       "std       12.294735       7.150826   587.637837    6088.636588   6442.307591   \n",
       "min        2.000000       0.000000    99.000000      29.000000    387.000000   \n",
       "25%       12.000000       3.000000   470.000000     561.000000    644.000000   \n",
       "50%       23.000000       6.000000   707.000000    1399.000000   1200.000000   \n",
       "75%       33.000000      11.000000  1119.000000    3500.000000   3500.000000   \n",
       "max       58.000000      37.000000  5299.000000   51300.000000  45400.000000   \n",
       "\n",
       "           margem  intercepto  ln_salario  ln_anos_empresa  ln_anos_como_ceo  \\\n",
       "count  177.000000       177.0  177.000000       177.000000        177.000000   \n",
       "mean     6.423729         1.0    6.581902         2.964321          1.894496   \n",
       "std     17.864245         0.0    0.606844         0.692710          0.799650   \n",
       "min   -203.100000         1.0    4.595120         1.098612          0.000000   \n",
       "25%      4.200000         1.0    6.152733         2.564949          1.386294   \n",
       "50%      6.800000         1.0    6.561031         3.178054          1.945910   \n",
       "75%     10.900000         1.0    7.020191         3.526361          2.484907   \n",
       "max     47.500000         1.0    8.575273         4.077537          3.637586   \n",
       "\n",
       "       ln_vendas_totais  ln_valuation   ln_margem  \n",
       "count        177.000000    177.000000  177.000000  \n",
       "mean           7.232249      7.399896    2.055773  \n",
       "std            1.430173      1.133124    0.653423  \n",
       "min            3.401197      5.961005   -0.356675  \n",
       "25%            6.331502      6.469250    1.686399  \n",
       "50%            7.244228      7.090910    2.055773  \n",
       "75%            8.160804      8.160804    2.476538  \n",
       "max           10.845466     10.723289    3.881564  "
      ]
     },
     "execution_count": 23,
     "metadata": {},
     "output_type": "execute_result"
    }
   ],
   "source": [
    "# Avaliando os dados após o tratamento dos valores NaN da variável \"ln_margem\"\n",
    "df_salarioCEO_ajustada.describe()"
   ]
  },
  {
   "cell_type": "code",
   "execution_count": 24,
   "metadata": {},
   "outputs": [
    {
     "data": {
      "image/png": "[encoded data removed]",
      "text/plain": [
       "<Figure size 1080x360 with 10 Axes>"
      ]
     },
     "metadata": {
      "needs_background": "light"
     },
     "output_type": "display_data"
    }
   ],
   "source": [
    "fig, ((ax1,ax2,ax3,ax4,ax5),\n",
    "      (ax6,ax7,ax8,ax9,ax10)) = plt.subplots(2,5,sharey=True,figsize=(15,5))\n",
    "\n",
    "ax1.scatter(df_salarioCEO_ajustada['anos_empresa'],df_salarioCEO_ajustada['salario']);\n",
    "ax2.scatter(df_salarioCEO_ajustada['anos_como_ceo'],df_salarioCEO_ajustada['salario']);\n",
    "ax3.scatter(df_salarioCEO_ajustada['vendas_totais'],df_salarioCEO_ajustada['salario']);\n",
    "ax4.scatter(df_salarioCEO_ajustada['valuation'],df_salarioCEO_ajustada['salario']);\n",
    "ax5.scatter(df_salarioCEO_ajustada['margem'],df_salarioCEO_ajustada['salario']);\n",
    "\n",
    "ax6.scatter(df_salarioCEO_ajustada['ln_anos_empresa'],df_salarioCEO_ajustada['salario'])\n",
    "ax7.scatter(df_salarioCEO_ajustada['ln_anos_como_ceo'],df_salarioCEO_ajustada['salario'])\n",
    "ax8.scatter(df_salarioCEO_ajustada['ln_vendas_totais'],df_salarioCEO_ajustada['salario'])\n",
    "ax9.scatter(df_salarioCEO_ajustada['ln_valuation'],df_salarioCEO_ajustada['salario'])\n",
    "ax10.scatter(df_salarioCEO_ajustada['ln_margem'],df_salarioCEO_ajustada['salario']);"
   ]
  },
  {
   "cell_type": "code",
   "execution_count": 25,
   "metadata": {},
   "outputs": [
    {
     "data": {
      "image/png": "[encoded data removed]",
      "text/plain": [
       "<Figure size 1080x360 with 10 Axes>"
      ]
     },
     "metadata": {
      "needs_background": "light"
     },
     "output_type": "display_data"
    }
   ],
   "source": [
    "fig, ((ax1,ax2,ax3,ax4,ax5),\n",
    "      (ax6,ax7,ax8,ax9,ax10)) = plt.subplots(2,5,sharey=True,figsize=(15,5))\n",
    "\n",
    "ax1.scatter(df_salarioCEO_ajustada['anos_empresa'],df_salarioCEO_ajustada['ln_salario'])\n",
    "ax2.scatter(df_salarioCEO_ajustada['anos_como_ceo'],df_salarioCEO_ajustada['ln_salario'])\n",
    "ax3.scatter(df_salarioCEO_ajustada['vendas_totais'],df_salarioCEO_ajustada['ln_salario'])\n",
    "ax4.scatter(df_salarioCEO_ajustada['valuation'],df_salarioCEO_ajustada['ln_salario'])\n",
    "ax5.scatter(df_salarioCEO_ajustada['margem'],df_salarioCEO_ajustada['ln_salario'])\n",
    "\n",
    "ax6.scatter(df_salarioCEO_ajustada['ln_anos_empresa'],df_salarioCEO_ajustada['ln_salario'])\n",
    "ax7.scatter(df_salarioCEO_ajustada['ln_anos_como_ceo'],df_salarioCEO_ajustada['ln_salario'])\n",
    "ax8.scatter(df_salarioCEO_ajustada['ln_vendas_totais'],df_salarioCEO_ajustada['ln_salario'])\n",
    "ax9.scatter(df_salarioCEO_ajustada['ln_valuation'],df_salarioCEO_ajustada['ln_salario'])\n",
    "ax10.scatter(df_salarioCEO_ajustada['ln_margem'],df_salarioCEO_ajustada['ln_salario']);"
   ]
  },
  {
   "cell_type": "code",
   "execution_count": 26,
   "metadata": {},
   "outputs": [
    {
     "data": {
      "image/png": "[encoded data removed]",
      "text/plain": [
       "<Figure size 1440x864 with 2 Axes>"
      ]
     },
     "metadata": {
      "needs_background": "light"
     },
     "output_type": "display_data"
    }
   ],
   "source": [
    "fig = plt.figure(figsize=(20,12))\n",
    "sns.heatmap(df_salarioCEO_ajustada.corr(),cmap='RdBu_r',annot=True);"
   ]
  },
  {
   "cell_type": "markdown",
   "metadata": {},
   "source": [
    "Pela análise do gráfico de dispersão, a correlação entre a variável resposta \"ln_salario\" com as variáveis explicativas \"ln_vendas_totais\" e \"ln_valuation\" aparenta ser estatisitcamente relevante.  \n",
    "Vemos isso também no mapa de calor das correlações."
   ]
  },
  {
   "cell_type": "markdown",
   "metadata": {},
   "source": [
    "**<span style=\"color:red\">Comentários Itano</span>**<br>\n",
    "* Muito bom ter considerado a análise gráfica e a correlação!\n",
    "</span>"
   ]
  },
  {
   "cell_type": "markdown",
   "metadata": {},
   "source": [
    "#### AJUSTE 4: Modelo considerando todas as possíveis variáveis com seus valores em LOG"
   ]
  },
  {
   "cell_type": "code",
   "execution_count": 26,
   "metadata": {
    "tags": []
   },
   "outputs": [
    {
     "name": "stdout",
     "output_type": "stream",
     "text": [
      "                            OLS Regression Results                            \n",
      "==============================================================================\n",
      "Dep. Variable:             ln_salario   R-squared:                       0.369\n",
      "Model:                            OLS   Adj. R-squared:                  0.351\n",
      "Method:                 Least Squares   F-statistic:                     20.01\n",
      "Date:                Mon, 05 Apr 2021   Prob (F-statistic):           1.10e-15\n",
      "Time:                        18:47:19   Log-Likelihood:                -121.47\n",
      "No. Observations:                 177   AIC:                             254.9\n",
      "Df Residuals:                     171   BIC:                             274.0\n",
      "Df Model:                           5                                         \n",
      "Covariance Type:            nonrobust                                         \n",
      "====================================================================================\n",
      "                       coef    std err          t      P>|t|      [0.025      0.975]\n",
      "------------------------------------------------------------------------------------\n",
      "intercepto           4.7059      0.322     14.603      0.000       4.070       5.342\n",
      "ln_anos_empresa     -0.1411      0.058     -2.440      0.016      -0.255      -0.027\n",
      "ln_anos_como_ceo     0.1875      0.048      3.922      0.000       0.093       0.282\n",
      "ln_vendas_totais     0.1563      0.058      2.700      0.008       0.042       0.271\n",
      "ln_valuation         0.1280      0.064      2.012      0.046       0.002       0.253\n",
      "ln_margem           -0.0675      0.083     -0.810      0.419      -0.232       0.097\n",
      "==============================================================================\n",
      "Omnibus:                       29.968   Durbin-Watson:                   2.017\n",
      "Prob(Omnibus):                  0.000   Jarque-Bera (JB):              166.473\n",
      "Skew:                          -0.365   Prob(JB):                     7.09e-37\n",
      "Kurtosis:                       7.695   Cond. No.                         100.\n",
      "==============================================================================\n",
      "\n",
      "Notes:\n",
      "[1] Standard Errors assume that the covariance matrix of the errors is correctly specified.\n"
     ]
    }
   ],
   "source": [
    "# Variável resposta\n",
    "y_ajuste_4 = df_salarioCEO_ajustada['ln_salario']\n",
    "\n",
    "# Variáveis explicativas\n",
    "x_ajuste_4 = df_salarioCEO_ajustada[ ['intercepto', 'ln_anos_empresa', 'ln_anos_como_ceo', 'ln_vendas_totais', 'ln_valuation', 'ln_margem'] ]\n",
    "\n",
    "# Ajusta o modelo e retorna os resultados\n",
    "modelo_ajuste_4 = sm.OLS(y_ajuste_4, x_ajuste_4)\n",
    "resultado_ajuste_4 = modelo_ajuste_4.fit()\n",
    "print(resultado_ajuste_4.summary())"
   ]
  },
  {
   "cell_type": "markdown",
   "metadata": {},
   "source": [
    "__Interpretação do modelo com o ajuste 4__"
   ]
  },
  {
   "cell_type": "markdown",
   "metadata": {},
   "source": [
    "A equação de regressão linear encontrada considerando os dados disponibilizados, e seguindo o modelo inicial proposta pela consultoria é:  \n",
    "Y(ln_salario) = 4,71 - 0,14* ln_anos_empresa + 0,19* ln_anos_como_ceo + 0,16* ln_vendas_totais + 0,13* ln_valuation - 0,07* ln_margem\n",
    "\n",
    "Análise das variáveis:\n",
    "1. __Intercepto__ = 111,05 (EXP de 4,71) é o salário médio de um CEO novo na empresa, sem nenhum ano como ceo e que tenha vendas totais, valuation e margem considerandos como zero  \n",
    "2. __anos de empresa__ = no aumento de 1% nos anos de empresa, o salário diminui em 1,14%, mantendo-se as outra variáveis constantes. O sinal do coeficiente da variável \"ln_anos_empresa\" não está conforme esperado (esperava-se que anos de empresa aumentassem o salário)\n",
    "3. __anos como CEO__ = no aumento de 1% nos anos como CEO, o salário aumenta em 0,19%, mantendo-se as outra variáveis constantes. O sinal do coeficiente da variável \"ln_anos_como_CEO\" está conforme esperado\n",
    "4. __vendas totais__ = no aumento de 1% na unidade de vendas, o salário aumenta em 0,16%, mantendo-se as outra variáveis constantes. O sinal do coeficiente da variável \"ln_vendas_totais\" está conforme esperado\n",
    "5. __valuation__ = no aumento de 1% na unidade de valuation, o salário aumenta em 0,13%, mantendo-se as outra variáveis constantes. O sinal do coeficiente da variável \"ln_valuation\" está conforme esperado, no entanto o valor de acrésimo é muito pequeno\n",
    "6. __margem__ = no aumento de 1% na unidade de margem, o salário diminui em 0,07%, mantendo-se as outra variáveis constantes. O sinal do coeficiente da variável \"ln_margem\", apesar de estar conforme a correlação calculada, não parece estar de acordo com o que a lógica nos diz (esperava-se que maiores margens indicassem um salário maior)\n",
    "\n",
    "\n",
    "O modelo apresenta um R2 ajustado de 0,351. Isso indica que o poder de explicação do modelo com as variáveis propostas pela consultoria em LOG ainda é fraco (cerca de 35%).  \n",
    "\n",
    "Sobre os p valores encontrados temos as análises abaixo:  \n",
    "__OBS.__: lembrando que a hipótese nula (H0) do teste é se o coeficiente é igual a zero na população, assim se a hipótese for plausível a variável explicativa não tem contribuição no modelo. Vamos considerar como sendo um H0 plausível p valores maiores que 0,05\n",
    "1. __ln anos de empresa__ = p valor igual a 0,016, hipótese nula não plausível (estatisticamente a variável contribui para o modelo)\n",
    "2. __ln anos como CEO__ = p valor igual a 0,000 hipótese nula não plausível (estatisticamente a variável contribui para o modelo)\n",
    "3. __ln vendas totais__ = p valor igual a 0,008, hipótese nula não plausível (estatisticamente a variável contribui para o modelo)\n",
    "4. __ln valuation__ = p valor igual a 0,046, hipótese nula não plausível (estatisticamente a variável contribui para o modelo)\n",
    "5. __ln margem__ = p valor igual a 0,419, hipótese nula plausível (estatisticamente a variável não contribui para o modelo)\n",
    "\n",
    "Ou seja, pela análise dos P valores de cada variável, chegamos à conclusão de que a variável \"ln_margem\" estatisticamente não contribui para o modelo.  \n",
    "Além disso, a variável \"ln_anos_de_empresa\" está apresentando um sinal invertido, também vamos retirar ela do modelo\n",
    "A seguir vamos estudar a retirada das mesmas do modelo e avaliar o impacto no R2 ajustado."
   ]
  },
  {
   "cell_type": "markdown",
   "metadata": {},
   "source": [
    "**<span style=\"color:red\">Comentários Itano</span>**<br>\n",
    "* Sobre a interpretação, é mais comum fazermos apenas no modelo final, mas achei bom para exercitar. Porém, a interpretação do Intercepto é o salário médio de um CEO com zero ln de anos de empresa, zero ln de anos como CEO, zero ln de vendas totais, zero ln de valuation e zero ln de margem. Quando fazemos a transformação, ganhamos por um lado em desempenho do modelo, mas por outro, perdemos em interpretabilidade.\n",
    "* Interessante a análise do R2, pois apesar de continuar baixo, a transformação permitiu praticamente dobrar esse valor.\n",
    "* Ótima análise de significância dos coeficientes!\n",
    "</span>"
   ]
  },
  {
   "cell_type": "markdown",
   "metadata": {},
   "source": [
    "#### AJUSTE 5: Removendo a variável \"ln_margem\" do modelo"
   ]
  },
  {
   "cell_type": "code",
   "execution_count": 27,
   "metadata": {},
   "outputs": [
    {
     "name": "stdout",
     "output_type": "stream",
     "text": [
      "                            OLS Regression Results                            \n",
      "==============================================================================\n",
      "Dep. Variable:             ln_salario   R-squared:                       0.367\n",
      "Model:                            OLS   Adj. R-squared:                  0.352\n",
      "Method:                 Least Squares   F-statistic:                     24.90\n",
      "Date:                Mon, 05 Apr 2021   Prob (F-statistic):           2.81e-16\n",
      "Time:                        18:47:19   Log-Likelihood:                -121.81\n",
      "No. Observations:                 177   AIC:                             253.6\n",
      "Df Residuals:                     172   BIC:                             269.5\n",
      "Df Model:                           4                                         \n",
      "Covariance Type:            nonrobust                                         \n",
      "====================================================================================\n",
      "                       coef    std err          t      P>|t|      [0.025      0.975]\n",
      "------------------------------------------------------------------------------------\n",
      "intercepto           4.5855      0.286     16.057      0.000       4.022       5.149\n",
      "ln_anos_empresa     -0.1489      0.057     -2.616      0.010      -0.261      -0.037\n",
      "ln_anos_como_ceo     0.1895      0.048      3.972      0.000       0.095       0.284\n",
      "ln_vendas_totais     0.1907      0.039      4.852      0.000       0.113       0.268\n",
      "ln_valuation         0.0945      0.048      1.956      0.052      -0.001       0.190\n",
      "==============================================================================\n",
      "Omnibus:                       30.554   Durbin-Watson:                   2.002\n",
      "Prob(Omnibus):                  0.000   Jarque-Bera (JB):              171.115\n",
      "Skew:                          -0.380   Prob(JB):                     6.96e-38\n",
      "Kurtosis:                       7.756   Cond. No.                         87.1\n",
      "==============================================================================\n",
      "\n",
      "Notes:\n",
      "[1] Standard Errors assume that the covariance matrix of the errors is correctly specified.\n"
     ]
    }
   ],
   "source": [
    "# Variável resposta\n",
    "y_ajuste_5 = df_salarioCEO_ajustada['ln_salario']\n",
    "\n",
    "# Variáveis explicativas\n",
    "x_ajuste_5 = df_salarioCEO_ajustada[ ['intercepto', 'ln_anos_empresa', 'ln_anos_como_ceo', 'ln_vendas_totais', 'ln_valuation'] ]\n",
    "\n",
    "# Ajusta o modelo e retorna os resultados\n",
    "modelo_ajuste_5 = sm.OLS(y_ajuste_5, x_ajuste_5)\n",
    "resultado_ajuste_5 = modelo_ajuste_5.fit()\n",
    "print(resultado_ajuste_5.summary())"
   ]
  },
  {
   "cell_type": "markdown",
   "metadata": {},
   "source": [
    "Com a retirada da variável \"ln_anos_empresa\", a variável \"ln_valuation\" passou a apresentar um hipótese nula plausível, deixando assim de ser estatisticamente relevante para o modelo, vamos retirá-la para vermos o resultado."
   ]
  },
  {
   "cell_type": "markdown",
   "metadata": {},
   "source": [
    "#### AJUSTE 6: Removendo as variáveis \"ln_margem\" e \"ln_valuation\" do modelo"
   ]
  },
  {
   "cell_type": "code",
   "execution_count": 28,
   "metadata": {},
   "outputs": [
    {
     "name": "stdout",
     "output_type": "stream",
     "text": [
      "                            OLS Regression Results                            \n",
      "==============================================================================\n",
      "Dep. Variable:             ln_salario   R-squared:                       0.353\n",
      "Model:                            OLS   Adj. R-squared:                  0.341\n",
      "Method:                 Least Squares   F-statistic:                     31.41\n",
      "Date:                Mon, 05 Apr 2021   Prob (F-statistic):           2.92e-16\n",
      "Time:                        18:47:20   Log-Likelihood:                -123.76\n",
      "No. Observations:                 177   AIC:                             255.5\n",
      "Df Residuals:                     173   BIC:                             268.2\n",
      "Df Model:                           3                                         \n",
      "Covariance Type:            nonrobust                                         \n",
      "====================================================================================\n",
      "                       coef    std err          t      P>|t|      [0.025      0.975]\n",
      "------------------------------------------------------------------------------------\n",
      "intercepto           4.9091      0.235     20.916      0.000       4.446       5.372\n",
      "ln_anos_empresa     -0.1612      0.057     -2.826      0.005      -0.274      -0.049\n",
      "ln_anos_como_ceo     0.1911      0.048      3.975      0.000       0.096       0.286\n",
      "ln_vendas_totais     0.2473      0.027      9.213      0.000       0.194       0.300\n",
      "==============================================================================\n",
      "Omnibus:                       22.395   Durbin-Watson:                   2.009\n",
      "Prob(Omnibus):                  0.000   Jarque-Bera (JB):               97.810\n",
      "Skew:                          -0.223   Prob(JB):                     5.77e-22\n",
      "Kurtosis:                       6.614   Cond. No.                         52.6\n",
      "==============================================================================\n",
      "\n",
      "Notes:\n",
      "[1] Standard Errors assume that the covariance matrix of the errors is correctly specified.\n"
     ]
    }
   ],
   "source": [
    "# Variável resposta\n",
    "y_ajuste_6 = df_salarioCEO_ajustada['ln_salario']\n",
    "\n",
    "# Variáveis explicativas\n",
    "x_ajuste_6 = df_salarioCEO_ajustada[ ['intercepto', 'ln_anos_empresa', 'ln_anos_como_ceo', 'ln_vendas_totais'] ]\n",
    "\n",
    "# Ajusta o modelo e retorna os resultados\n",
    "modelo_ajuste_6 = sm.OLS(y_ajuste_6, x_ajuste_6)\n",
    "resultado_ajuste_6 = modelo_ajuste_6.fit()\n",
    "print(resultado_ajuste_6.summary())"
   ]
  },
  {
   "cell_type": "markdown",
   "metadata": {},
   "source": [
    "#### AJUSTE 7: Removendo as variáveis \"ln_margem\", \"ln_valuation\" e \"ln_anos_empresa\" do modelo"
   ]
  },
  {
   "cell_type": "code",
   "execution_count": 29,
   "metadata": {},
   "outputs": [
    {
     "name": "stdout",
     "output_type": "stream",
     "text": [
      "                            OLS Regression Results                            \n",
      "==============================================================================\n",
      "Dep. Variable:             ln_salario   R-squared:                       0.323\n",
      "Model:                            OLS   Adj. R-squared:                  0.315\n",
      "Method:                 Least Squares   F-statistic:                     41.46\n",
      "Date:                Mon, 05 Apr 2021   Prob (F-statistic):           1.88e-15\n",
      "Time:                        18:47:20   Log-Likelihood:                -127.75\n",
      "No. Observations:                 177   AIC:                             261.5\n",
      "Df Residuals:                     174   BIC:                             271.0\n",
      "Df Model:                           2                                         \n",
      "Covariance Type:            nonrobust                                         \n",
      "====================================================================================\n",
      "                       coef    std err          t      P>|t|      [0.025      0.975]\n",
      "------------------------------------------------------------------------------------\n",
      "intercepto           4.6357      0.218     21.256      0.000       4.205       5.066\n",
      "ln_anos_como_ceo     0.1562      0.047      3.296      0.001       0.063       0.250\n",
      "ln_vendas_totais     0.2282      0.026      8.613      0.000       0.176       0.280\n",
      "==============================================================================\n",
      "Omnibus:                       19.639   Durbin-Watson:                   2.014\n",
      "Prob(Omnibus):                  0.000   Jarque-Bera (JB):               71.640\n",
      "Skew:                          -0.227   Prob(JB):                     2.78e-16\n",
      "Kurtosis:                       6.084   Cond. No.                         44.8\n",
      "==============================================================================\n",
      "\n",
      "Notes:\n",
      "[1] Standard Errors assume that the covariance matrix of the errors is correctly specified.\n"
     ]
    }
   ],
   "source": [
    "# Variável resposta\n",
    "y_ajuste_7 = df_salarioCEO_ajustada['ln_salario']\n",
    "\n",
    "# Variáveis explicativas\n",
    "x_ajuste_7 = df_salarioCEO_ajustada[ ['intercepto', 'ln_anos_como_ceo', 'ln_vendas_totais'] ]\n",
    "\n",
    "# Ajusta o modelo e retorna os resultados\n",
    "modelo_ajuste_7 = sm.OLS(y_ajuste_7, x_ajuste_7)\n",
    "resultado_ajuste_7 = modelo_ajuste_7.fit()\n",
    "print(resultado_ajuste_7.summary())"
   ]
  },
  {
   "cell_type": "markdown",
   "metadata": {},
   "source": [
    "### Interprete os coeficientes do novo modelo utilizando as variáveis transformadas em termos do problema de negócio."
   ]
  },
  {
   "cell_type": "markdown",
   "metadata": {
    "tags": []
   },
   "source": [
    "`Dica :` A interpretação de modelos que usam log mudam. Veja o resumo na tabela abaixo para guiar a interpretação dos coeficientes do modelo."
   ]
  },
  {
   "cell_type": "markdown",
   "metadata": {},
   "source": [
    "<p align='left'><img src=\"https://s3-sa-east-1.amazonaws.com/preditiva.ai/diversos/interpretacao_beta.png\"></p>"
   ]
  },
  {
   "cell_type": "markdown",
   "metadata": {},
   "source": [
    "__Interpretação do modelo com o ajuste 7__"
   ]
  },
  {
   "cell_type": "markdown",
   "metadata": {},
   "source": [
    "A equação de regressão linear otimizada considerando os dados disponibilizados é:  \n",
    "Y(ln_salario) = 4,64 + 0,16* ln_anos_como_ceo + 0,23* ln_vendas_totais\n",
    "\n",
    "Análise das variáveis:\n",
    "1. __Intercepto__ = 103,54 (EXP de 4,64) é o salário médio de um CEO novo na empresa, sem nenhum ano como ceo e que tenha vendas totais, valuation e margem considerandos como zero  \n",
    "2. __anos como CEO__ = no aumento de 1% nos anos como CEO, o salário aumenta em 0,16%, mantendo-se as outra variáveis constantes. O sinal do coeficiente da variável \"ln_anos_como_CEO\" está conforme esperado\n",
    "3. __vendas totais__ = no aumento de 1% na unidade de vendas, o salário aumenta em 0,23%, mantendo-se as outra variáveis constantes. O sinal do coeficiente da variável \"ln_vendas_totais\" está conforme esperado\n",
    "\n",
    "Sobre os p valores das variáveis mantidas no modelo, encontramos temos as análises abaixo:  \n",
    "__OBS.__: lembrando que a hipótese nula (H0) do teste é se o coeficiente é igual a zero na população, assim se a hipótese for plausível a variável explicativa não tem contribuição no modelo. Vamos considerar como sendo um H0 plausível p valores maiores que 0,05\n",
    "1. __ln anos de empresa__ = p valor igual a 0,000, hipótese nula não plausível (estatisticamente a variável contribui para o modelo)\n",
    "2. __ln anos como CEO__ = p valor igual a 0,001 hipótese nula não plausível (estatisticamente a variável contribui para o modelo)\n",
    "3. __ln vendas totais__ = p valor igual a 0,000, hipótese nula não plausível (estatisticamente a variável contribui para o modelo)\n",
    "\n",
    "___CONCLUSÃO___  \n",
    "O modelo apresenta um R2 ajustado de 0,315. Isso indica que o poder de explicação do modelo ainda é fraco (cerca de 32%), mesmo usando as variáveis em LOG e retirando aquelas que apresentavam um sinal invertido ao esperado e também as variáveis estatisticamente não representativas para o modelo.\n",
    "É necessário uma nova interação com a equipe do negócio para verificar outras variáveis que possam incrementar o R2, ou seja, aumentar o poder explicativo do modelo."
   ]
  },
  {
   "cell_type": "markdown",
   "metadata": {},
   "source": [
    "**<span style=\"color:red\">Comentários Itano</span>**<br>\n",
    "Ótimo trabalho Leo!!\n",
    "\n",
    "Como comentários finais:\n",
    "* Verifique a interpretação do Intercepto quando utilizamos as variáveis explicativas com transformação log.\n",
    "* O notebook está muito bem comentado, com o resultado das análises realizadas.\n",
    "* Ter uma conclusão também é ótimo! Como Cientistas de Dados estaremos sempre apoiados pelos analistas de negócios.\n",
    "</span>"
   ]
  },
  {
   "cell_type": "code",
   "execution_count": null,
   "metadata": {},
   "outputs": [],
   "source": []
  }
 ],
 "metadata": {
  "kernelspec": {
   "display_name": "Python 3",
   "language": "python",
   "name": "python3"
  },
  "language_info": {
   "codemirror_mode": {
    "name": "ipython",
    "version": 3
   },
   "file_extension": ".py",
   "mimetype": "text/x-python",
   "name": "python",
   "nbconvert_exporter": "python",
   "pygments_lexer": "ipython3",
   "version": "3.9.1"
  },
  "toc-autonumbering": true
 },
 "nbformat": 4,
 "nbformat_minor": 4
}
